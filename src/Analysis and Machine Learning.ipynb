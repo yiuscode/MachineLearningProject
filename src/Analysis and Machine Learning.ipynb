{
 "cells": [
  {
   "cell_type": "markdown",
   "metadata": {},
   "source": [
    "Import modules needed"
   ]
  },
  {
   "cell_type": "code",
   "execution_count": 142,
   "metadata": {
    "colab": {
     "base_uri": "https://localhost:8080/",
     "height": 52
    },
    "colab_type": "code",
    "id": "WLg_UyV-guJT",
    "outputId": "7b2a74aa-0282-4f52-aa3b-04a1e2ba9848"
   },
   "outputs": [],
   "source": [
    "from matplotlib import pyplot as plt\n",
    "import pandas as pd\n",
    "import seaborn as sns\n",
    "import numpy as np\n",
    "from numpy import nan as NA\n",
    "from scipy import stats\n",
    "pd.options.mode.chained_assignment = None  # default='warn'\n",
    "\n",
    "%matplotlib inline"
   ]
  },
  {
   "cell_type": "markdown",
   "metadata": {},
   "source": [
    "Import data set file"
   ]
  },
  {
   "cell_type": "code",
   "execution_count": 143,
   "metadata": {
    "colab": {},
    "colab_type": "code",
    "id": "w7olo-M8huRd"
   },
   "outputs": [],
   "source": [
    "data = pd.read_csv('HeartDisease.csv')"
   ]
  },
  {
   "cell_type": "markdown",
   "metadata": {
    "colab_type": "text",
    "id": "Lo50VcGLiYhp"
   },
   "source": [
    "# Data Describtion"
   ]
  },
  {
   "cell_type": "markdown",
   "metadata": {},
   "source": [
    "Summary of our dataset"
   ]
  },
  {
   "cell_type": "code",
   "execution_count": 144,
   "metadata": {
    "colab": {},
    "colab_type": "code",
    "id": "FiD-ftcfguJk"
   },
   "outputs": [
    {
     "data": {
      "text/html": [
       "<div>\n",
       "<style scoped>\n",
       "    .dataframe tbody tr th:only-of-type {\n",
       "        vertical-align: middle;\n",
       "    }\n",
       "\n",
       "    .dataframe tbody tr th {\n",
       "        vertical-align: top;\n",
       "    }\n",
       "\n",
       "    .dataframe thead th {\n",
       "        text-align: right;\n",
       "    }\n",
       "</style>\n",
       "<table border=\"1\" class=\"dataframe\">\n",
       "  <thead>\n",
       "    <tr style=\"text-align: right;\">\n",
       "      <th></th>\n",
       "      <th>ID</th>\n",
       "      <th>Age</th>\n",
       "      <th>Sex</th>\n",
       "      <th>cp</th>\n",
       "      <th>trestbps</th>\n",
       "      <th>chol</th>\n",
       "      <th>fbs</th>\n",
       "      <th>restecg</th>\n",
       "      <th>thalach</th>\n",
       "      <th>exang</th>\n",
       "      <th>oldpeak</th>\n",
       "      <th>num</th>\n",
       "    </tr>\n",
       "  </thead>\n",
       "  <tbody>\n",
       "    <tr>\n",
       "      <th>count</th>\n",
       "      <td>457.000000</td>\n",
       "      <td>457.000000</td>\n",
       "      <td>457.000000</td>\n",
       "      <td>457.000000</td>\n",
       "      <td>424.000000</td>\n",
       "      <td>431.000000</td>\n",
       "      <td>403.000000</td>\n",
       "      <td>455.000000</td>\n",
       "      <td>424.000000</td>\n",
       "      <td>424.000000</td>\n",
       "      <td>421.000000</td>\n",
       "      <td>457.000000</td>\n",
       "    </tr>\n",
       "    <tr>\n",
       "      <th>mean</th>\n",
       "      <td>229.000000</td>\n",
       "      <td>50.962801</td>\n",
       "      <td>0.796499</td>\n",
       "      <td>3.155361</td>\n",
       "      <td>131.488208</td>\n",
       "      <td>200.048724</td>\n",
       "      <td>0.138958</td>\n",
       "      <td>0.356044</td>\n",
       "      <td>134.910377</td>\n",
       "      <td>0.358491</td>\n",
       "      <td>0.622090</td>\n",
       "      <td>0.459519</td>\n",
       "    </tr>\n",
       "    <tr>\n",
       "      <th>std</th>\n",
       "      <td>132.068795</td>\n",
       "      <td>9.219588</td>\n",
       "      <td>0.403043</td>\n",
       "      <td>0.943548</td>\n",
       "      <td>18.829454</td>\n",
       "      <td>113.463794</td>\n",
       "      <td>0.346332</td>\n",
       "      <td>0.590529</td>\n",
       "      <td>24.251177</td>\n",
       "      <td>0.480124</td>\n",
       "      <td>0.922115</td>\n",
       "      <td>0.498905</td>\n",
       "    </tr>\n",
       "    <tr>\n",
       "      <th>min</th>\n",
       "      <td>1.000000</td>\n",
       "      <td>28.000000</td>\n",
       "      <td>0.000000</td>\n",
       "      <td>1.000000</td>\n",
       "      <td>80.000000</td>\n",
       "      <td>0.000000</td>\n",
       "      <td>0.000000</td>\n",
       "      <td>0.000000</td>\n",
       "      <td>69.000000</td>\n",
       "      <td>0.000000</td>\n",
       "      <td>-2.600000</td>\n",
       "      <td>0.000000</td>\n",
       "    </tr>\n",
       "    <tr>\n",
       "      <th>25%</th>\n",
       "      <td>115.000000</td>\n",
       "      <td>45.000000</td>\n",
       "      <td>1.000000</td>\n",
       "      <td>2.000000</td>\n",
       "      <td>120.000000</td>\n",
       "      <td>171.000000</td>\n",
       "      <td>0.000000</td>\n",
       "      <td>0.000000</td>\n",
       "      <td>118.000000</td>\n",
       "      <td>0.000000</td>\n",
       "      <td>0.000000</td>\n",
       "      <td>0.000000</td>\n",
       "    </tr>\n",
       "    <tr>\n",
       "      <th>50%</th>\n",
       "      <td>229.000000</td>\n",
       "      <td>52.000000</td>\n",
       "      <td>1.000000</td>\n",
       "      <td>3.000000</td>\n",
       "      <td>130.000000</td>\n",
       "      <td>220.000000</td>\n",
       "      <td>0.000000</td>\n",
       "      <td>0.000000</td>\n",
       "      <td>135.000000</td>\n",
       "      <td>0.000000</td>\n",
       "      <td>0.000000</td>\n",
       "      <td>0.000000</td>\n",
       "    </tr>\n",
       "    <tr>\n",
       "      <th>75%</th>\n",
       "      <td>343.000000</td>\n",
       "      <td>57.000000</td>\n",
       "      <td>1.000000</td>\n",
       "      <td>4.000000</td>\n",
       "      <td>140.000000</td>\n",
       "      <td>269.500000</td>\n",
       "      <td>0.000000</td>\n",
       "      <td>1.000000</td>\n",
       "      <td>150.000000</td>\n",
       "      <td>1.000000</td>\n",
       "      <td>1.000000</td>\n",
       "      <td>1.000000</td>\n",
       "    </tr>\n",
       "    <tr>\n",
       "      <th>max</th>\n",
       "      <td>457.000000</td>\n",
       "      <td>75.000000</td>\n",
       "      <td>1.000000</td>\n",
       "      <td>4.000000</td>\n",
       "      <td>200.000000</td>\n",
       "      <td>603.000000</td>\n",
       "      <td>1.000000</td>\n",
       "      <td>2.000000</td>\n",
       "      <td>190.000000</td>\n",
       "      <td>1.000000</td>\n",
       "      <td>5.000000</td>\n",
       "      <td>1.000000</td>\n",
       "    </tr>\n",
       "  </tbody>\n",
       "</table>\n",
       "</div>"
      ],
      "text/plain": [
       "               ID         Age         Sex          cp    trestbps        chol  \\\n",
       "count  457.000000  457.000000  457.000000  457.000000  424.000000  431.000000   \n",
       "mean   229.000000   50.962801    0.796499    3.155361  131.488208  200.048724   \n",
       "std    132.068795    9.219588    0.403043    0.943548   18.829454  113.463794   \n",
       "min      1.000000   28.000000    0.000000    1.000000   80.000000    0.000000   \n",
       "25%    115.000000   45.000000    1.000000    2.000000  120.000000  171.000000   \n",
       "50%    229.000000   52.000000    1.000000    3.000000  130.000000  220.000000   \n",
       "75%    343.000000   57.000000    1.000000    4.000000  140.000000  269.500000   \n",
       "max    457.000000   75.000000    1.000000    4.000000  200.000000  603.000000   \n",
       "\n",
       "              fbs     restecg     thalach       exang     oldpeak         num  \n",
       "count  403.000000  455.000000  424.000000  424.000000  421.000000  457.000000  \n",
       "mean     0.138958    0.356044  134.910377    0.358491    0.622090    0.459519  \n",
       "std      0.346332    0.590529   24.251177    0.480124    0.922115    0.498905  \n",
       "min      0.000000    0.000000   69.000000    0.000000   -2.600000    0.000000  \n",
       "25%      0.000000    0.000000  118.000000    0.000000    0.000000    0.000000  \n",
       "50%      0.000000    0.000000  135.000000    0.000000    0.000000    0.000000  \n",
       "75%      0.000000    1.000000  150.000000    1.000000    1.000000    1.000000  \n",
       "max      1.000000    2.000000  190.000000    1.000000    5.000000    1.000000  "
      ]
     },
     "execution_count": 144,
     "metadata": {},
     "output_type": "execute_result"
    }
   ],
   "source": [
    "data.describe()"
   ]
  },
  {
   "cell_type": "markdown",
   "metadata": {},
   "source": [
    "Check for the first 5 rows"
   ]
  },
  {
   "cell_type": "code",
   "execution_count": 145,
   "metadata": {
    "colab": {
     "base_uri": "https://localhost:8080/",
     "height": 204
    },
    "colab_type": "code",
    "id": "kMStUyRbguJs",
    "outputId": "8c5ec670-21fa-4f36-fa1a-201b34f0098d"
   },
   "outputs": [
    {
     "data": {
      "text/html": [
       "<div>\n",
       "<style scoped>\n",
       "    .dataframe tbody tr th:only-of-type {\n",
       "        vertical-align: middle;\n",
       "    }\n",
       "\n",
       "    .dataframe tbody tr th {\n",
       "        vertical-align: top;\n",
       "    }\n",
       "\n",
       "    .dataframe thead th {\n",
       "        text-align: right;\n",
       "    }\n",
       "</style>\n",
       "<table border=\"1\" class=\"dataframe\">\n",
       "  <thead>\n",
       "    <tr style=\"text-align: right;\">\n",
       "      <th></th>\n",
       "      <th>ID</th>\n",
       "      <th>Age</th>\n",
       "      <th>Sex</th>\n",
       "      <th>cp</th>\n",
       "      <th>trestbps</th>\n",
       "      <th>chol</th>\n",
       "      <th>fbs</th>\n",
       "      <th>restecg</th>\n",
       "      <th>thalach</th>\n",
       "      <th>exang</th>\n",
       "      <th>oldpeak</th>\n",
       "      <th>num</th>\n",
       "      <th>Place</th>\n",
       "    </tr>\n",
       "  </thead>\n",
       "  <tbody>\n",
       "    <tr>\n",
       "      <th>0</th>\n",
       "      <td>1</td>\n",
       "      <td>28</td>\n",
       "      <td>1</td>\n",
       "      <td>2</td>\n",
       "      <td>130.0</td>\n",
       "      <td>132.0</td>\n",
       "      <td>0.0</td>\n",
       "      <td>2.0</td>\n",
       "      <td>185.0</td>\n",
       "      <td>0.0</td>\n",
       "      <td>0.0</td>\n",
       "      <td>0</td>\n",
       "      <td>Hungary</td>\n",
       "    </tr>\n",
       "    <tr>\n",
       "      <th>1</th>\n",
       "      <td>2</td>\n",
       "      <td>29</td>\n",
       "      <td>1</td>\n",
       "      <td>2</td>\n",
       "      <td>120.0</td>\n",
       "      <td>243.0</td>\n",
       "      <td>0.0</td>\n",
       "      <td>0.0</td>\n",
       "      <td>160.0</td>\n",
       "      <td>0.0</td>\n",
       "      <td>0.0</td>\n",
       "      <td>0</td>\n",
       "      <td>Hungary</td>\n",
       "    </tr>\n",
       "    <tr>\n",
       "      <th>2</th>\n",
       "      <td>3</td>\n",
       "      <td>29</td>\n",
       "      <td>1</td>\n",
       "      <td>2</td>\n",
       "      <td>140.0</td>\n",
       "      <td>NaN</td>\n",
       "      <td>0.0</td>\n",
       "      <td>0.0</td>\n",
       "      <td>170.0</td>\n",
       "      <td>0.0</td>\n",
       "      <td>0.0</td>\n",
       "      <td>0</td>\n",
       "      <td>Hungary</td>\n",
       "    </tr>\n",
       "    <tr>\n",
       "      <th>3</th>\n",
       "      <td>4</td>\n",
       "      <td>30</td>\n",
       "      <td>0</td>\n",
       "      <td>1</td>\n",
       "      <td>170.0</td>\n",
       "      <td>237.0</td>\n",
       "      <td>0.0</td>\n",
       "      <td>1.0</td>\n",
       "      <td>170.0</td>\n",
       "      <td>0.0</td>\n",
       "      <td>0.0</td>\n",
       "      <td>0</td>\n",
       "      <td>Hungary</td>\n",
       "    </tr>\n",
       "    <tr>\n",
       "      <th>4</th>\n",
       "      <td>5</td>\n",
       "      <td>31</td>\n",
       "      <td>0</td>\n",
       "      <td>2</td>\n",
       "      <td>100.0</td>\n",
       "      <td>219.0</td>\n",
       "      <td>0.0</td>\n",
       "      <td>1.0</td>\n",
       "      <td>150.0</td>\n",
       "      <td>0.0</td>\n",
       "      <td>0.0</td>\n",
       "      <td>0</td>\n",
       "      <td>Hungary</td>\n",
       "    </tr>\n",
       "  </tbody>\n",
       "</table>\n",
       "</div>"
      ],
      "text/plain": [
       "   ID  Age  Sex  cp  trestbps   chol  fbs  restecg  thalach  exang  oldpeak  \\\n",
       "0   1   28    1   2     130.0  132.0  0.0      2.0    185.0    0.0      0.0   \n",
       "1   2   29    1   2     120.0  243.0  0.0      0.0    160.0    0.0      0.0   \n",
       "2   3   29    1   2     140.0    NaN  0.0      0.0    170.0    0.0      0.0   \n",
       "3   4   30    0   1     170.0  237.0  0.0      1.0    170.0    0.0      0.0   \n",
       "4   5   31    0   2     100.0  219.0  0.0      1.0    150.0    0.0      0.0   \n",
       "\n",
       "   num    Place  \n",
       "0    0  Hungary  \n",
       "1    0  Hungary  \n",
       "2    0  Hungary  \n",
       "3    0  Hungary  \n",
       "4    0  Hungary  "
      ]
     },
     "execution_count": 145,
     "metadata": {},
     "output_type": "execute_result"
    }
   ],
   "source": [
    "data.head()"
   ]
  },
  {
   "cell_type": "markdown",
   "metadata": {},
   "source": [
    "Size of out dataset"
   ]
  },
  {
   "cell_type": "code",
   "execution_count": 146,
   "metadata": {
    "colab": {
     "base_uri": "https://localhost:8080/",
     "height": 34
    },
    "colab_type": "code",
    "id": "_O1WyaePegd2",
    "outputId": "bad5c33c-5884-4974-ba90-3899066f0fa1"
   },
   "outputs": [
    {
     "data": {
      "text/plain": [
       "(457, 13)"
      ]
     },
     "execution_count": 146,
     "metadata": {},
     "output_type": "execute_result"
    }
   ],
   "source": [
    "data.shape"
   ]
  },
  {
   "cell_type": "markdown",
   "metadata": {},
   "source": [
    "Detect outliers"
   ]
  },
  {
   "cell_type": "code",
   "execution_count": 147,
   "metadata": {
    "colab": {
     "base_uri": "https://localhost:8080/",
     "height": 374
    },
    "colab_type": "code",
    "id": "jkEbPbYafA8l",
    "outputId": "9a2e3023-98dc-49d7-dcf5-677cf7c82d1e"
   },
   "outputs": [
    {
     "data": {
      "text/plain": [
       "<matplotlib.axes._subplots.AxesSubplot at 0x23f1f116508>"
      ]
     },
     "execution_count": 147,
     "metadata": {},
     "output_type": "execute_result"
    },
    {
     "data": {
      "image/png": "[encoded data removed]",
      "text/plain": [
       "<Figure size 1080x432 with 1 Axes>"
      ]
     },
     "metadata": {
      "needs_background": "light"
     },
     "output_type": "display_data"
    }
   ],
   "source": [
    "plt.subplots(figsize=(15,6))\n",
    "data.boxplot(patch_artist=True, sym=\"k.\")"
   ]
  },
  {
   "cell_type": "markdown",
   "metadata": {},
   "source": [
    "show a concise summary of the dataset"
   ]
  },
  {
   "cell_type": "code",
   "execution_count": 148,
   "metadata": {
    "colab": {
     "base_uri": "https://localhost:8080/",
     "height": 357
    },
    "colab_type": "code",
    "id": "YeVxoF4df42V",
    "outputId": "82b680ef-ec9d-4a51-f5f5-16908a4159b4"
   },
   "outputs": [
    {
     "name": "stdout",
     "output_type": "stream",
     "text": [
      "<class 'pandas.core.frame.DataFrame'>\n",
      "RangeIndex: 457 entries, 0 to 456\n",
      "Data columns (total 13 columns):\n",
      " #   Column    Non-Null Count  Dtype  \n",
      "---  ------    --------------  -----  \n",
      " 0   ID        457 non-null    int64  \n",
      " 1   Age       457 non-null    int64  \n",
      " 2   Sex       457 non-null    int64  \n",
      " 3   cp        457 non-null    int64  \n",
      " 4   trestbps  424 non-null    float64\n",
      " 5   chol      431 non-null    float64\n",
      " 6   fbs       403 non-null    float64\n",
      " 7   restecg   455 non-null    float64\n",
      " 8   thalach   424 non-null    float64\n",
      " 9   exang     424 non-null    float64\n",
      " 10  oldpeak   421 non-null    float64\n",
      " 11  num       457 non-null    int64  \n",
      " 12  Place     457 non-null    object \n",
      "dtypes: float64(7), int64(5), object(1)\n",
      "memory usage: 46.5+ KB\n"
     ]
    }
   ],
   "source": [
    "data.info()"
   ]
  },
  {
   "cell_type": "markdown",
   "metadata": {},
   "source": [
    "Get the number of unique values for each variable."
   ]
  },
  {
   "cell_type": "code",
   "execution_count": 149,
   "metadata": {
    "colab": {
     "base_uri": "https://localhost:8080/",
     "height": 255
    },
    "colab_type": "code",
    "id": "WdobtnpC_fMC",
    "outputId": "c01fc43f-6051-4b3c-cbf2-3c92db747c3c"
   },
   "outputs": [
    {
     "data": {
      "text/plain": [
       "ID          457\n",
       "Age          46\n",
       "Sex           2\n",
       "cp            4\n",
       "trestbps     46\n",
       "chol        170\n",
       "fbs           2\n",
       "restecg       3\n",
       "thalach      93\n",
       "exang         2\n",
       "oldpeak      32\n",
       "num           2\n",
       "Place         3\n",
       "dtype: int64"
      ]
     },
     "execution_count": 149,
     "metadata": {},
     "output_type": "execute_result"
    }
   ],
   "source": [
    "data.nunique(axis = 0)"
   ]
  },
  {
   "cell_type": "markdown",
   "metadata": {},
   "source": [
    "Since id column is redundant and unuseful for data analysys, our team decided to drop it."
   ]
  },
  {
   "cell_type": "code",
   "execution_count": 150,
   "metadata": {
    "colab": {},
    "colab_type": "code",
    "id": "BRz4WLE5Gjsj",
    "outputId": "d9365e2b-f107-46e6-9245-c4124edbf116"
   },
   "outputs": [
    {
     "data": {
      "text/html": [
       "<div>\n",
       "<style scoped>\n",
       "    .dataframe tbody tr th:only-of-type {\n",
       "        vertical-align: middle;\n",
       "    }\n",
       "\n",
       "    .dataframe tbody tr th {\n",
       "        vertical-align: top;\n",
       "    }\n",
       "\n",
       "    .dataframe thead th {\n",
       "        text-align: right;\n",
       "    }\n",
       "</style>\n",
       "<table border=\"1\" class=\"dataframe\">\n",
       "  <thead>\n",
       "    <tr style=\"text-align: right;\">\n",
       "      <th></th>\n",
       "      <th>Age</th>\n",
       "      <th>Sex</th>\n",
       "      <th>cp</th>\n",
       "      <th>trestbps</th>\n",
       "      <th>chol</th>\n",
       "      <th>fbs</th>\n",
       "      <th>restecg</th>\n",
       "      <th>thalach</th>\n",
       "      <th>exang</th>\n",
       "      <th>oldpeak</th>\n",
       "      <th>num</th>\n",
       "      <th>Place</th>\n",
       "    </tr>\n",
       "  </thead>\n",
       "  <tbody>\n",
       "    <tr>\n",
       "      <th>0</th>\n",
       "      <td>28</td>\n",
       "      <td>1</td>\n",
       "      <td>2</td>\n",
       "      <td>130.0</td>\n",
       "      <td>132.0</td>\n",
       "      <td>0.0</td>\n",
       "      <td>2.0</td>\n",
       "      <td>185.0</td>\n",
       "      <td>0.0</td>\n",
       "      <td>0.0</td>\n",
       "      <td>0</td>\n",
       "      <td>Hungary</td>\n",
       "    </tr>\n",
       "    <tr>\n",
       "      <th>1</th>\n",
       "      <td>29</td>\n",
       "      <td>1</td>\n",
       "      <td>2</td>\n",
       "      <td>120.0</td>\n",
       "      <td>243.0</td>\n",
       "      <td>0.0</td>\n",
       "      <td>0.0</td>\n",
       "      <td>160.0</td>\n",
       "      <td>0.0</td>\n",
       "      <td>0.0</td>\n",
       "      <td>0</td>\n",
       "      <td>Hungary</td>\n",
       "    </tr>\n",
       "    <tr>\n",
       "      <th>2</th>\n",
       "      <td>29</td>\n",
       "      <td>1</td>\n",
       "      <td>2</td>\n",
       "      <td>140.0</td>\n",
       "      <td>NaN</td>\n",
       "      <td>0.0</td>\n",
       "      <td>0.0</td>\n",
       "      <td>170.0</td>\n",
       "      <td>0.0</td>\n",
       "      <td>0.0</td>\n",
       "      <td>0</td>\n",
       "      <td>Hungary</td>\n",
       "    </tr>\n",
       "    <tr>\n",
       "      <th>3</th>\n",
       "      <td>30</td>\n",
       "      <td>0</td>\n",
       "      <td>1</td>\n",
       "      <td>170.0</td>\n",
       "      <td>237.0</td>\n",
       "      <td>0.0</td>\n",
       "      <td>1.0</td>\n",
       "      <td>170.0</td>\n",
       "      <td>0.0</td>\n",
       "      <td>0.0</td>\n",
       "      <td>0</td>\n",
       "      <td>Hungary</td>\n",
       "    </tr>\n",
       "    <tr>\n",
       "      <th>4</th>\n",
       "      <td>31</td>\n",
       "      <td>0</td>\n",
       "      <td>2</td>\n",
       "      <td>100.0</td>\n",
       "      <td>219.0</td>\n",
       "      <td>0.0</td>\n",
       "      <td>1.0</td>\n",
       "      <td>150.0</td>\n",
       "      <td>0.0</td>\n",
       "      <td>0.0</td>\n",
       "      <td>0</td>\n",
       "      <td>Hungary</td>\n",
       "    </tr>\n",
       "    <tr>\n",
       "      <th>...</th>\n",
       "      <td>...</td>\n",
       "      <td>...</td>\n",
       "      <td>...</td>\n",
       "      <td>...</td>\n",
       "      <td>...</td>\n",
       "      <td>...</td>\n",
       "      <td>...</td>\n",
       "      <td>...</td>\n",
       "      <td>...</td>\n",
       "      <td>...</td>\n",
       "      <td>...</td>\n",
       "      <td>...</td>\n",
       "    </tr>\n",
       "    <tr>\n",
       "      <th>452</th>\n",
       "      <td>62</td>\n",
       "      <td>1</td>\n",
       "      <td>4</td>\n",
       "      <td>158.0</td>\n",
       "      <td>170.0</td>\n",
       "      <td>0.0</td>\n",
       "      <td>1.0</td>\n",
       "      <td>138.0</td>\n",
       "      <td>1.0</td>\n",
       "      <td>0.0</td>\n",
       "      <td>1</td>\n",
       "      <td>VA</td>\n",
       "    </tr>\n",
       "    <tr>\n",
       "      <th>453</th>\n",
       "      <td>54</td>\n",
       "      <td>0</td>\n",
       "      <td>4</td>\n",
       "      <td>127.0</td>\n",
       "      <td>333.0</td>\n",
       "      <td>1.0</td>\n",
       "      <td>1.0</td>\n",
       "      <td>154.0</td>\n",
       "      <td>0.0</td>\n",
       "      <td>0.0</td>\n",
       "      <td>1</td>\n",
       "      <td>VA</td>\n",
       "    </tr>\n",
       "    <tr>\n",
       "      <th>454</th>\n",
       "      <td>62</td>\n",
       "      <td>1</td>\n",
       "      <td>1</td>\n",
       "      <td>NaN</td>\n",
       "      <td>139.0</td>\n",
       "      <td>0.0</td>\n",
       "      <td>1.0</td>\n",
       "      <td>NaN</td>\n",
       "      <td>NaN</td>\n",
       "      <td>NaN</td>\n",
       "      <td>0</td>\n",
       "      <td>VA</td>\n",
       "    </tr>\n",
       "    <tr>\n",
       "      <th>455</th>\n",
       "      <td>58</td>\n",
       "      <td>1</td>\n",
       "      <td>4</td>\n",
       "      <td>NaN</td>\n",
       "      <td>385.0</td>\n",
       "      <td>1.0</td>\n",
       "      <td>2.0</td>\n",
       "      <td>NaN</td>\n",
       "      <td>NaN</td>\n",
       "      <td>NaN</td>\n",
       "      <td>0</td>\n",
       "      <td>VA</td>\n",
       "    </tr>\n",
       "    <tr>\n",
       "      <th>456</th>\n",
       "      <td>62</td>\n",
       "      <td>1</td>\n",
       "      <td>2</td>\n",
       "      <td>120.0</td>\n",
       "      <td>254.0</td>\n",
       "      <td>0.0</td>\n",
       "      <td>2.0</td>\n",
       "      <td>93.0</td>\n",
       "      <td>1.0</td>\n",
       "      <td>0.0</td>\n",
       "      <td>1</td>\n",
       "      <td>VA</td>\n",
       "    </tr>\n",
       "  </tbody>\n",
       "</table>\n",
       "<p>457 rows × 12 columns</p>\n",
       "</div>"
      ],
      "text/plain": [
       "     Age  Sex  cp  trestbps   chol  fbs  restecg  thalach  exang  oldpeak  \\\n",
       "0     28    1   2     130.0  132.0  0.0      2.0    185.0    0.0      0.0   \n",
       "1     29    1   2     120.0  243.0  0.0      0.0    160.0    0.0      0.0   \n",
       "2     29    1   2     140.0    NaN  0.0      0.0    170.0    0.0      0.0   \n",
       "3     30    0   1     170.0  237.0  0.0      1.0    170.0    0.0      0.0   \n",
       "4     31    0   2     100.0  219.0  0.0      1.0    150.0    0.0      0.0   \n",
       "..   ...  ...  ..       ...    ...  ...      ...      ...    ...      ...   \n",
       "452   62    1   4     158.0  170.0  0.0      1.0    138.0    1.0      0.0   \n",
       "453   54    0   4     127.0  333.0  1.0      1.0    154.0    0.0      0.0   \n",
       "454   62    1   1       NaN  139.0  0.0      1.0      NaN    NaN      NaN   \n",
       "455   58    1   4       NaN  385.0  1.0      2.0      NaN    NaN      NaN   \n",
       "456   62    1   2     120.0  254.0  0.0      2.0     93.0    1.0      0.0   \n",
       "\n",
       "     num    Place  \n",
       "0      0  Hungary  \n",
       "1      0  Hungary  \n",
       "2      0  Hungary  \n",
       "3      0  Hungary  \n",
       "4      0  Hungary  \n",
       "..   ...      ...  \n",
       "452    1       VA  \n",
       "453    1       VA  \n",
       "454    0       VA  \n",
       "455    0       VA  \n",
       "456    1       VA  \n",
       "\n",
       "[457 rows x 12 columns]"
      ]
     },
     "execution_count": 150,
     "metadata": {},
     "output_type": "execute_result"
    }
   ],
   "source": [
    "data.drop('ID', axis = 1, inplace = True)\n",
    "data"
   ]
  },
  {
   "cell_type": "markdown",
   "metadata": {
    "colab_type": "text",
    "id": "6Fwo5itdguKR"
   },
   "source": [
    "## Start with cleaning null data"
   ]
  },
  {
   "cell_type": "markdown",
   "metadata": {},
   "source": [
    "Print out all the column names"
   ]
  },
  {
   "cell_type": "code",
   "execution_count": 151,
   "metadata": {
    "colab": {},
    "colab_type": "code",
    "id": "L4E0aMwXGjso",
    "outputId": "80555a1a-6c82-484a-d4c5-a481b02aecf1"
   },
   "outputs": [
    {
     "name": "stdout",
     "output_type": "stream",
     "text": [
      "['Age' 'Sex' 'cp' 'trestbps' 'chol' 'fbs' 'restecg' 'thalach' 'exang'\n",
      " 'oldpeak' 'num' 'Place']\n"
     ]
    }
   ],
   "source": [
    "print(data.columns.values)"
   ]
  },
  {
   "cell_type": "markdown",
   "metadata": {},
   "source": [
    "As we can see, the columns names are not all start with capital letter, which is inconsistent\n",
    "Hense, we need to fix it."
   ]
  },
  {
   "cell_type": "code",
   "execution_count": 152,
   "metadata": {
    "colab": {},
    "colab_type": "code",
    "id": "-fyz7EbcGjsr",
    "outputId": "38263588-28c2-4c14-db9d-f14ff2da7816"
   },
   "outputs": [
    {
     "name": "stdout",
     "output_type": "stream",
     "text": [
      "['Age' 'Sex' 'Cp' 'Trestbps' 'Chol' 'Fbs' 'Restecg' 'Thalach' 'Exang'\n",
      " 'Oldpeak' 'Num' 'Place']\n"
     ]
    }
   ],
   "source": [
    "data.columns = map(str.capitalize, data.columns)\n",
    "print(data.columns.values) "
   ]
  },
  {
   "cell_type": "markdown",
   "metadata": {},
   "source": [
    "Find out the missing values for each column"
   ]
  },
  {
   "cell_type": "code",
   "execution_count": 153,
   "metadata": {
    "colab": {
     "base_uri": "https://localhost:8080/",
     "height": 255
    },
    "colab_type": "code",
    "id": "o33sup9VguKb",
    "outputId": "613437b9-af0e-4b34-a7e4-6f890d377423"
   },
   "outputs": [
    {
     "data": {
      "text/plain": [
       "Age          0\n",
       "Sex          0\n",
       "Cp           0\n",
       "Trestbps    33\n",
       "Chol        26\n",
       "Fbs         54\n",
       "Restecg      2\n",
       "Thalach     33\n",
       "Exang       33\n",
       "Oldpeak     36\n",
       "Num          0\n",
       "Place        0\n",
       "dtype: int64"
      ]
     },
     "execution_count": 153,
     "metadata": {},
     "output_type": "execute_result"
    }
   ],
   "source": [
    "data.isnull().sum()"
   ]
  },
  {
   "cell_type": "markdown",
   "metadata": {},
   "source": [
    "Check if any error data for each column"
   ]
  },
  {
   "cell_type": "code",
   "execution_count": 154,
   "metadata": {
    "colab": {},
    "colab_type": "code",
    "id": "sJLPbjBnGjsz",
    "outputId": "39963d6d-8699-429f-ba1a-b32fb524da99"
   },
   "outputs": [
    {
     "name": "stdout",
     "output_type": "stream",
     "text": [
      "Errors:\n",
      "Age: 0\n",
      "Chol: 82\n",
      "Trestbps: 0\n",
      "Fbs: 0\n",
      "Restecg: 0\n",
      "Exang: 0\n",
      "Oldpeak: 0\n",
      "Num: 0\n",
      "Place 0\n"
     ]
    }
   ],
   "source": [
    "print(\"Errors:\")\n",
    "print('Age:', len(data[(data['Age'] < 18) | (data['Age'] > 100)]))\n",
    "print('Chol:', len(data[(data['Chol'] < 1)]))\n",
    "print('Trestbps:', len(data[(data['Trestbps'] < 1)]))\n",
    "print('Fbs:', len(data[(data['Fbs'] < 0)| (data['Fbs'] > 1)]))\n",
    "print('Restecg:', len(data[(data['Restecg'] < 0)| (data['Restecg'] > 2)]))\n",
    "print('Exang:', len(data[(data['Exang'] < 0)| (data['Exang'] > 1)]))\n",
    "print('Oldpeak:', len(data[data['Oldpeak'].astype(str).str.isnumeric()]))\n",
    "print('Num:', len(data[(data['Num'] < 0)| (data['Num'] > 1)]))\n",
    "# Check if any misspelling in Place column\n",
    "errors=[]\n",
    "for i, v in enumerate(data['Place']):\n",
    "    if (v[0] == \"H\") and (v != \"Hungary\"):\n",
    "        errors.append(data.at[i,'Place'])\n",
    "        data.at[i,'Place'] = \"Hungary\"\n",
    "\n",
    "    if (v[0] == \"S\") and (v != \"Switzerland\"):\n",
    "        errors.append(data.at[i,'Place'])\n",
    "        data.at[i,'Place'] = \"Switzerland\"\n",
    "\n",
    "    if (v[0] == \"V\") and (v != \"VA\"):\n",
    "        errors.append(data.at[i,'Place'])\n",
    "        data.at[i,'Place'] = \"VA\"\n",
    "\n",
    "print('Place', len(errors))"
   ]
  },
  {
   "cell_type": "markdown",
   "metadata": {},
   "source": [
    "Check what kind of error in Chol"
   ]
  },
  {
   "cell_type": "code",
   "execution_count": 155,
   "metadata": {},
   "outputs": [
    {
     "data": {
      "text/html": [
       "<div>\n",
       "<style scoped>\n",
       "    .dataframe tbody tr th:only-of-type {\n",
       "        vertical-align: middle;\n",
       "    }\n",
       "\n",
       "    .dataframe tbody tr th {\n",
       "        vertical-align: top;\n",
       "    }\n",
       "\n",
       "    .dataframe thead th {\n",
       "        text-align: right;\n",
       "    }\n",
       "</style>\n",
       "<table border=\"1\" class=\"dataframe\">\n",
       "  <thead>\n",
       "    <tr style=\"text-align: right;\">\n",
       "      <th></th>\n",
       "      <th>Chol</th>\n",
       "    </tr>\n",
       "  </thead>\n",
       "  <tbody>\n",
       "    <tr>\n",
       "      <th>294</th>\n",
       "      <td>0.0</td>\n",
       "    </tr>\n",
       "    <tr>\n",
       "      <th>295</th>\n",
       "      <td>0.0</td>\n",
       "    </tr>\n",
       "    <tr>\n",
       "      <th>296</th>\n",
       "      <td>0.0</td>\n",
       "    </tr>\n",
       "    <tr>\n",
       "      <th>297</th>\n",
       "      <td>0.0</td>\n",
       "    </tr>\n",
       "    <tr>\n",
       "      <th>298</th>\n",
       "      <td>0.0</td>\n",
       "    </tr>\n",
       "    <tr>\n",
       "      <th>...</th>\n",
       "      <td>...</td>\n",
       "    </tr>\n",
       "    <tr>\n",
       "      <th>386</th>\n",
       "      <td>0.0</td>\n",
       "    </tr>\n",
       "    <tr>\n",
       "      <th>401</th>\n",
       "      <td>0.0</td>\n",
       "    </tr>\n",
       "    <tr>\n",
       "      <th>402</th>\n",
       "      <td>0.0</td>\n",
       "    </tr>\n",
       "    <tr>\n",
       "      <th>404</th>\n",
       "      <td>0.0</td>\n",
       "    </tr>\n",
       "    <tr>\n",
       "      <th>414</th>\n",
       "      <td>0.0</td>\n",
       "    </tr>\n",
       "  </tbody>\n",
       "</table>\n",
       "<p>82 rows × 1 columns</p>\n",
       "</div>"
      ],
      "text/plain": [
       "     Chol\n",
       "294   0.0\n",
       "295   0.0\n",
       "296   0.0\n",
       "297   0.0\n",
       "298   0.0\n",
       "..    ...\n",
       "386   0.0\n",
       "401   0.0\n",
       "402   0.0\n",
       "404   0.0\n",
       "414   0.0\n",
       "\n",
       "[82 rows x 1 columns]"
      ]
     },
     "execution_count": 155,
     "metadata": {},
     "output_type": "execute_result"
    }
   ],
   "source": [
    "data.loc[data['Chol'] <1, ['Chol']]"
   ]
  },
  {
   "cell_type": "markdown",
   "metadata": {},
   "source": [
    "Except for null value, we also found out Chol(Cholesterol) column contains 82 of zero value from above rule.\n",
    "Those zero values are invalid."
   ]
  },
  {
   "cell_type": "code",
   "execution_count": 156,
   "metadata": {
    "colab": {},
    "colab_type": "code",
    "id": "N3g_Ep9aGjs2",
    "outputId": "ae596af7-5fed-470c-bced-1c072283ebef"
   },
   "outputs": [
    {
     "name": "stdout",
     "output_type": "stream",
     "text": [
      "82\n"
     ]
    }
   ],
   "source": [
    "print(data['Chol'].isin([0]).sum())"
   ]
  },
  {
   "cell_type": "markdown",
   "metadata": {},
   "source": [
    "Transform zero value into null"
   ]
  },
  {
   "cell_type": "code",
   "execution_count": 157,
   "metadata": {
    "colab": {},
    "colab_type": "code",
    "id": "hAt6eJMfGjs5"
   },
   "outputs": [],
   "source": [
    "data.loc[data['Chol'] ==0 , 'Chol'] = np.nan"
   ]
  },
  {
   "cell_type": "markdown",
   "metadata": {},
   "source": [
    "drop columns with missing values more than 10%"
   ]
  },
  {
   "cell_type": "code",
   "execution_count": 158,
   "metadata": {
    "colab": {},
    "colab_type": "code",
    "id": "geu-2KYbGjs7",
    "outputId": "49633443-470d-43c1-ff24-b509e87b3218"
   },
   "outputs": [
    {
     "data": {
      "text/html": [
       "<div>\n",
       "<style scoped>\n",
       "    .dataframe tbody tr th:only-of-type {\n",
       "        vertical-align: middle;\n",
       "    }\n",
       "\n",
       "    .dataframe tbody tr th {\n",
       "        vertical-align: top;\n",
       "    }\n",
       "\n",
       "    .dataframe thead th {\n",
       "        text-align: right;\n",
       "    }\n",
       "</style>\n",
       "<table border=\"1\" class=\"dataframe\">\n",
       "  <thead>\n",
       "    <tr style=\"text-align: right;\">\n",
       "      <th></th>\n",
       "      <th>Age</th>\n",
       "      <th>Sex</th>\n",
       "      <th>Cp</th>\n",
       "      <th>Trestbps</th>\n",
       "      <th>Restecg</th>\n",
       "      <th>Thalach</th>\n",
       "      <th>Exang</th>\n",
       "      <th>Oldpeak</th>\n",
       "      <th>Num</th>\n",
       "      <th>Place</th>\n",
       "    </tr>\n",
       "  </thead>\n",
       "  <tbody>\n",
       "    <tr>\n",
       "      <th>0</th>\n",
       "      <td>28</td>\n",
       "      <td>1</td>\n",
       "      <td>2</td>\n",
       "      <td>130.0</td>\n",
       "      <td>2.0</td>\n",
       "      <td>185.0</td>\n",
       "      <td>0.0</td>\n",
       "      <td>0.0</td>\n",
       "      <td>0</td>\n",
       "      <td>Hungary</td>\n",
       "    </tr>\n",
       "    <tr>\n",
       "      <th>1</th>\n",
       "      <td>29</td>\n",
       "      <td>1</td>\n",
       "      <td>2</td>\n",
       "      <td>120.0</td>\n",
       "      <td>0.0</td>\n",
       "      <td>160.0</td>\n",
       "      <td>0.0</td>\n",
       "      <td>0.0</td>\n",
       "      <td>0</td>\n",
       "      <td>Hungary</td>\n",
       "    </tr>\n",
       "    <tr>\n",
       "      <th>2</th>\n",
       "      <td>29</td>\n",
       "      <td>1</td>\n",
       "      <td>2</td>\n",
       "      <td>140.0</td>\n",
       "      <td>0.0</td>\n",
       "      <td>170.0</td>\n",
       "      <td>0.0</td>\n",
       "      <td>0.0</td>\n",
       "      <td>0</td>\n",
       "      <td>Hungary</td>\n",
       "    </tr>\n",
       "    <tr>\n",
       "      <th>3</th>\n",
       "      <td>30</td>\n",
       "      <td>0</td>\n",
       "      <td>1</td>\n",
       "      <td>170.0</td>\n",
       "      <td>1.0</td>\n",
       "      <td>170.0</td>\n",
       "      <td>0.0</td>\n",
       "      <td>0.0</td>\n",
       "      <td>0</td>\n",
       "      <td>Hungary</td>\n",
       "    </tr>\n",
       "    <tr>\n",
       "      <th>4</th>\n",
       "      <td>31</td>\n",
       "      <td>0</td>\n",
       "      <td>2</td>\n",
       "      <td>100.0</td>\n",
       "      <td>1.0</td>\n",
       "      <td>150.0</td>\n",
       "      <td>0.0</td>\n",
       "      <td>0.0</td>\n",
       "      <td>0</td>\n",
       "      <td>Hungary</td>\n",
       "    </tr>\n",
       "    <tr>\n",
       "      <th>...</th>\n",
       "      <td>...</td>\n",
       "      <td>...</td>\n",
       "      <td>...</td>\n",
       "      <td>...</td>\n",
       "      <td>...</td>\n",
       "      <td>...</td>\n",
       "      <td>...</td>\n",
       "      <td>...</td>\n",
       "      <td>...</td>\n",
       "      <td>...</td>\n",
       "    </tr>\n",
       "    <tr>\n",
       "      <th>452</th>\n",
       "      <td>62</td>\n",
       "      <td>1</td>\n",
       "      <td>4</td>\n",
       "      <td>158.0</td>\n",
       "      <td>1.0</td>\n",
       "      <td>138.0</td>\n",
       "      <td>1.0</td>\n",
       "      <td>0.0</td>\n",
       "      <td>1</td>\n",
       "      <td>VA</td>\n",
       "    </tr>\n",
       "    <tr>\n",
       "      <th>453</th>\n",
       "      <td>54</td>\n",
       "      <td>0</td>\n",
       "      <td>4</td>\n",
       "      <td>127.0</td>\n",
       "      <td>1.0</td>\n",
       "      <td>154.0</td>\n",
       "      <td>0.0</td>\n",
       "      <td>0.0</td>\n",
       "      <td>1</td>\n",
       "      <td>VA</td>\n",
       "    </tr>\n",
       "    <tr>\n",
       "      <th>454</th>\n",
       "      <td>62</td>\n",
       "      <td>1</td>\n",
       "      <td>1</td>\n",
       "      <td>NaN</td>\n",
       "      <td>1.0</td>\n",
       "      <td>NaN</td>\n",
       "      <td>NaN</td>\n",
       "      <td>NaN</td>\n",
       "      <td>0</td>\n",
       "      <td>VA</td>\n",
       "    </tr>\n",
       "    <tr>\n",
       "      <th>455</th>\n",
       "      <td>58</td>\n",
       "      <td>1</td>\n",
       "      <td>4</td>\n",
       "      <td>NaN</td>\n",
       "      <td>2.0</td>\n",
       "      <td>NaN</td>\n",
       "      <td>NaN</td>\n",
       "      <td>NaN</td>\n",
       "      <td>0</td>\n",
       "      <td>VA</td>\n",
       "    </tr>\n",
       "    <tr>\n",
       "      <th>456</th>\n",
       "      <td>62</td>\n",
       "      <td>1</td>\n",
       "      <td>2</td>\n",
       "      <td>120.0</td>\n",
       "      <td>2.0</td>\n",
       "      <td>93.0</td>\n",
       "      <td>1.0</td>\n",
       "      <td>0.0</td>\n",
       "      <td>1</td>\n",
       "      <td>VA</td>\n",
       "    </tr>\n",
       "  </tbody>\n",
       "</table>\n",
       "<p>457 rows × 10 columns</p>\n",
       "</div>"
      ],
      "text/plain": [
       "     Age  Sex  Cp  Trestbps  Restecg  Thalach  Exang  Oldpeak  Num    Place\n",
       "0     28    1   2     130.0      2.0    185.0    0.0      0.0    0  Hungary\n",
       "1     29    1   2     120.0      0.0    160.0    0.0      0.0    0  Hungary\n",
       "2     29    1   2     140.0      0.0    170.0    0.0      0.0    0  Hungary\n",
       "3     30    0   1     170.0      1.0    170.0    0.0      0.0    0  Hungary\n",
       "4     31    0   2     100.0      1.0    150.0    0.0      0.0    0  Hungary\n",
       "..   ...  ...  ..       ...      ...      ...    ...      ...  ...      ...\n",
       "452   62    1   4     158.0      1.0    138.0    1.0      0.0    1       VA\n",
       "453   54    0   4     127.0      1.0    154.0    0.0      0.0    1       VA\n",
       "454   62    1   1       NaN      1.0      NaN    NaN      NaN    0       VA\n",
       "455   58    1   4       NaN      2.0      NaN    NaN      NaN    0       VA\n",
       "456   62    1   2     120.0      2.0     93.0    1.0      0.0    1       VA\n",
       "\n",
       "[457 rows x 10 columns]"
      ]
     },
     "execution_count": 158,
     "metadata": {},
     "output_type": "execute_result"
    }
   ],
   "source": [
    "threshold = (1-0.1)*len(data)\n",
    "\n",
    "data.dropna(thresh = threshold,axis=1,inplace=True)\n",
    "data"
   ]
  },
  {
   "cell_type": "markdown",
   "metadata": {},
   "source": [
    "Drop rows with missing values more than 20%"
   ]
  },
  {
   "cell_type": "code",
   "execution_count": 159,
   "metadata": {
    "colab": {},
    "colab_type": "code",
    "id": "faAQPBLXGjs_",
    "outputId": "545d920b-7e56-4c08-db6b-142458f852ed"
   },
   "outputs": [
    {
     "name": "stdout",
     "output_type": "stream",
     "text": [
      "<class 'pandas.core.frame.DataFrame'>\n",
      "Int64Index: 424 entries, 0 to 456\n",
      "Data columns (total 10 columns):\n",
      " #   Column    Non-Null Count  Dtype  \n",
      "---  ------    --------------  -----  \n",
      " 0   Age       424 non-null    int64  \n",
      " 1   Sex       424 non-null    int64  \n",
      " 2   Cp        424 non-null    int64  \n",
      " 3   Trestbps  424 non-null    float64\n",
      " 4   Restecg   422 non-null    float64\n",
      " 5   Thalach   424 non-null    float64\n",
      " 6   Exang     424 non-null    float64\n",
      " 7   Oldpeak   420 non-null    float64\n",
      " 8   Num       424 non-null    int64  \n",
      " 9   Place     424 non-null    object \n",
      "dtypes: float64(5), int64(4), object(1)\n",
      "memory usage: 36.4+ KB\n"
     ]
    }
   ],
   "source": [
    "threshold = (1-0.2)*len(data.columns)\n",
    "\n",
    "data.dropna(thresh = threshold,inplace=True)\n",
    "data.info()"
   ]
  },
  {
   "cell_type": "markdown",
   "metadata": {
    "colab_type": "text",
    "id": "53cnlDbaQkWL"
   },
   "source": [
    "# Replace missing values\n"
   ]
  },
  {
   "cell_type": "markdown",
   "metadata": {},
   "source": [
    "Check the current null value in all columns"
   ]
  },
  {
   "cell_type": "code",
   "execution_count": 160,
   "metadata": {
    "colab": {
     "base_uri": "https://localhost:8080/",
     "height": 238
    },
    "colab_type": "code",
    "id": "EfaP_cO8QnxM",
    "outputId": "eb81a7fa-55ee-45f8-cf95-cb535437e1cc"
   },
   "outputs": [
    {
     "data": {
      "text/plain": [
       "Age         0\n",
       "Sex         0\n",
       "Cp          0\n",
       "Trestbps    0\n",
       "Restecg     2\n",
       "Thalach     0\n",
       "Exang       0\n",
       "Oldpeak     4\n",
       "Num         0\n",
       "Place       0\n",
       "dtype: int64"
      ]
     },
     "execution_count": 160,
     "metadata": {},
     "output_type": "execute_result"
    }
   ],
   "source": [
    "data.isnull().sum()"
   ]
  },
  {
   "cell_type": "markdown",
   "metadata": {},
   "source": [
    "For numerical null value, we can use median to replace it"
   ]
  },
  {
   "cell_type": "code",
   "execution_count": 161,
   "metadata": {
    "colab": {},
    "colab_type": "code",
    "id": "OB2crmLrubyD"
   },
   "outputs": [],
   "source": [
    "data['Oldpeak'].fillna(data['Oldpeak'].median(), inplace = True)"
   ]
  },
  {
   "cell_type": "markdown",
   "metadata": {},
   "source": [
    "For Catorical null vaule, we can use mode to replace it"
   ]
  },
  {
   "cell_type": "code",
   "execution_count": 162,
   "metadata": {
    "colab": {},
    "colab_type": "code",
    "id": "7mwUSaHnQtpN"
   },
   "outputs": [],
   "source": [
    "data['Restecg'].fillna(str(data['Restecg'].mode().values[0]), inplace=True)"
   ]
  },
  {
   "cell_type": "markdown",
   "metadata": {},
   "source": [
    "Check the current null value in all columns"
   ]
  },
  {
   "cell_type": "code",
   "execution_count": 163,
   "metadata": {
    "colab": {
     "base_uri": "https://localhost:8080/",
     "height": 238
    },
    "colab_type": "code",
    "id": "YhnXofWfQwRt",
    "outputId": "841dcf22-dc55-40e9-cb1a-3c35bed107da"
   },
   "outputs": [
    {
     "data": {
      "text/plain": [
       "Age         0\n",
       "Sex         0\n",
       "Cp          0\n",
       "Trestbps    0\n",
       "Restecg     0\n",
       "Thalach     0\n",
       "Exang       0\n",
       "Oldpeak     0\n",
       "Num         0\n",
       "Place       0\n",
       "dtype: int64"
      ]
     },
     "execution_count": 163,
     "metadata": {},
     "output_type": "execute_result"
    }
   ],
   "source": [
    "data.isnull().sum()"
   ]
  },
  {
   "cell_type": "markdown",
   "metadata": {
    "colab_type": "text",
    "id": "VWmivKzLQ2j9"
   },
   "source": [
    "# Remove outlier"
   ]
  },
  {
   "cell_type": "markdown",
   "metadata": {},
   "source": [
    "Identify outliers (according to the boxplot above) using z scores "
   ]
  },
  {
   "cell_type": "code",
   "execution_count": 164,
   "metadata": {
    "colab": {},
    "colab_type": "code",
    "id": "bJn4fZ02Q5kq"
   },
   "outputs": [],
   "source": [
    "mean_of_trestbps = int(data['Trestbps'].mean())\n",
    "\n",
    "data.loc[np.abs(stats.zscore(data['Trestbps'])) > 3, 'Trestbps'] = np.nan\n",
    "data.fillna(mean_of_trestbps,inplace=True)"
   ]
  },
  {
   "cell_type": "markdown",
   "metadata": {},
   "source": [
    "Plot another box plot to check if the outliers are removed"
   ]
  },
  {
   "cell_type": "code",
   "execution_count": 165,
   "metadata": {
    "colab": {
     "base_uri": "https://localhost:8080/",
     "height": 374
    },
    "colab_type": "code",
    "id": "OJF9HdHYNiwy",
    "outputId": "4d2e7c44-7810-423c-b988-c241c24a9b8f"
   },
   "outputs": [
    {
     "data": {
      "text/plain": [
       "<matplotlib.axes._subplots.AxesSubplot at 0x23f1f3df508>"
      ]
     },
     "execution_count": 165,
     "metadata": {},
     "output_type": "execute_result"
    },
    {
     "data": {
      "image/png": "[encoded data removed]",
      "text/plain": [
       "<Figure size 1080x432 with 1 Axes>"
      ]
     },
     "metadata": {
      "needs_background": "light"
     },
     "output_type": "display_data"
    }
   ],
   "source": [
    "plt.subplots(figsize=(15,6))\n",
    "data.boxplot(patch_artist=True, sym=\"k.\")"
   ]
  },
  {
   "cell_type": "markdown",
   "metadata": {},
   "source": [
    "# Machine Learning Section:"
   ]
  },
  {
   "cell_type": "code",
   "execution_count": 166,
   "metadata": {},
   "outputs": [],
   "source": [
    "import graphviz\n",
    "#conda install python-graphviz\n",
    "\n",
    "import os\n",
    "from sklearn import tree\n",
    "import sklearn.metrics as metrics\n",
    "from sklearn.tree import DecisionTreeRegressor, DecisionTreeClassifier,export_graphviz\n",
    "from IPython.display import display\n",
    "from sklearn.model_selection import train_test_split\n",
    "from sklearn.metrics import accuracy_score, precision_score, recall_score, f1_score, confusion_matrix\n",
    "import numpy as np\n",
    "import pandas as pd\n",
    "import matplotlib.pyplot as plt\n",
    "%matplotlib inline"
   ]
  },
  {
   "cell_type": "markdown",
   "metadata": {},
   "source": [
    "Dataset that is going to use for this Machine Learning task"
   ]
  },
  {
   "cell_type": "code",
   "execution_count": 167,
   "metadata": {},
   "outputs": [
    {
     "data": {
      "text/html": [
       "<div>\n",
       "<style scoped>\n",
       "    .dataframe tbody tr th:only-of-type {\n",
       "        vertical-align: middle;\n",
       "    }\n",
       "\n",
       "    .dataframe tbody tr th {\n",
       "        vertical-align: top;\n",
       "    }\n",
       "\n",
       "    .dataframe thead th {\n",
       "        text-align: right;\n",
       "    }\n",
       "</style>\n",
       "<table border=\"1\" class=\"dataframe\">\n",
       "  <thead>\n",
       "    <tr style=\"text-align: right;\">\n",
       "      <th></th>\n",
       "      <th>Age</th>\n",
       "      <th>Sex</th>\n",
       "      <th>Cp</th>\n",
       "      <th>Trestbps</th>\n",
       "      <th>Restecg</th>\n",
       "      <th>Thalach</th>\n",
       "      <th>Exang</th>\n",
       "      <th>Oldpeak</th>\n",
       "      <th>Num</th>\n",
       "      <th>Place</th>\n",
       "    </tr>\n",
       "  </thead>\n",
       "  <tbody>\n",
       "    <tr>\n",
       "      <th>0</th>\n",
       "      <td>28</td>\n",
       "      <td>1</td>\n",
       "      <td>2</td>\n",
       "      <td>130.0</td>\n",
       "      <td>2</td>\n",
       "      <td>185.0</td>\n",
       "      <td>0.0</td>\n",
       "      <td>0.0</td>\n",
       "      <td>0</td>\n",
       "      <td>Hungary</td>\n",
       "    </tr>\n",
       "    <tr>\n",
       "      <th>1</th>\n",
       "      <td>29</td>\n",
       "      <td>1</td>\n",
       "      <td>2</td>\n",
       "      <td>120.0</td>\n",
       "      <td>0</td>\n",
       "      <td>160.0</td>\n",
       "      <td>0.0</td>\n",
       "      <td>0.0</td>\n",
       "      <td>0</td>\n",
       "      <td>Hungary</td>\n",
       "    </tr>\n",
       "    <tr>\n",
       "      <th>2</th>\n",
       "      <td>29</td>\n",
       "      <td>1</td>\n",
       "      <td>2</td>\n",
       "      <td>140.0</td>\n",
       "      <td>0</td>\n",
       "      <td>170.0</td>\n",
       "      <td>0.0</td>\n",
       "      <td>0.0</td>\n",
       "      <td>0</td>\n",
       "      <td>Hungary</td>\n",
       "    </tr>\n",
       "    <tr>\n",
       "      <th>3</th>\n",
       "      <td>30</td>\n",
       "      <td>0</td>\n",
       "      <td>1</td>\n",
       "      <td>170.0</td>\n",
       "      <td>1</td>\n",
       "      <td>170.0</td>\n",
       "      <td>0.0</td>\n",
       "      <td>0.0</td>\n",
       "      <td>0</td>\n",
       "      <td>Hungary</td>\n",
       "    </tr>\n",
       "    <tr>\n",
       "      <th>4</th>\n",
       "      <td>31</td>\n",
       "      <td>0</td>\n",
       "      <td>2</td>\n",
       "      <td>100.0</td>\n",
       "      <td>1</td>\n",
       "      <td>150.0</td>\n",
       "      <td>0.0</td>\n",
       "      <td>0.0</td>\n",
       "      <td>0</td>\n",
       "      <td>Hungary</td>\n",
       "    </tr>\n",
       "    <tr>\n",
       "      <th>...</th>\n",
       "      <td>...</td>\n",
       "      <td>...</td>\n",
       "      <td>...</td>\n",
       "      <td>...</td>\n",
       "      <td>...</td>\n",
       "      <td>...</td>\n",
       "      <td>...</td>\n",
       "      <td>...</td>\n",
       "      <td>...</td>\n",
       "      <td>...</td>\n",
       "    </tr>\n",
       "    <tr>\n",
       "      <th>450</th>\n",
       "      <td>68</td>\n",
       "      <td>1</td>\n",
       "      <td>3</td>\n",
       "      <td>134.0</td>\n",
       "      <td>0</td>\n",
       "      <td>151.0</td>\n",
       "      <td>1.0</td>\n",
       "      <td>0.0</td>\n",
       "      <td>0</td>\n",
       "      <td>VA</td>\n",
       "    </tr>\n",
       "    <tr>\n",
       "      <th>451</th>\n",
       "      <td>51</td>\n",
       "      <td>0</td>\n",
       "      <td>4</td>\n",
       "      <td>114.0</td>\n",
       "      <td>2</td>\n",
       "      <td>96.0</td>\n",
       "      <td>0.0</td>\n",
       "      <td>1.0</td>\n",
       "      <td>0</td>\n",
       "      <td>VA</td>\n",
       "    </tr>\n",
       "    <tr>\n",
       "      <th>452</th>\n",
       "      <td>62</td>\n",
       "      <td>1</td>\n",
       "      <td>4</td>\n",
       "      <td>158.0</td>\n",
       "      <td>1</td>\n",
       "      <td>138.0</td>\n",
       "      <td>1.0</td>\n",
       "      <td>0.0</td>\n",
       "      <td>1</td>\n",
       "      <td>VA</td>\n",
       "    </tr>\n",
       "    <tr>\n",
       "      <th>453</th>\n",
       "      <td>54</td>\n",
       "      <td>0</td>\n",
       "      <td>4</td>\n",
       "      <td>127.0</td>\n",
       "      <td>1</td>\n",
       "      <td>154.0</td>\n",
       "      <td>0.0</td>\n",
       "      <td>0.0</td>\n",
       "      <td>1</td>\n",
       "      <td>VA</td>\n",
       "    </tr>\n",
       "    <tr>\n",
       "      <th>456</th>\n",
       "      <td>62</td>\n",
       "      <td>1</td>\n",
       "      <td>2</td>\n",
       "      <td>120.0</td>\n",
       "      <td>2</td>\n",
       "      <td>93.0</td>\n",
       "      <td>1.0</td>\n",
       "      <td>0.0</td>\n",
       "      <td>1</td>\n",
       "      <td>VA</td>\n",
       "    </tr>\n",
       "  </tbody>\n",
       "</table>\n",
       "<p>424 rows × 10 columns</p>\n",
       "</div>"
      ],
      "text/plain": [
       "     Age  Sex  Cp  Trestbps Restecg  Thalach  Exang  Oldpeak  Num    Place\n",
       "0     28    1   2     130.0       2    185.0    0.0      0.0    0  Hungary\n",
       "1     29    1   2     120.0       0    160.0    0.0      0.0    0  Hungary\n",
       "2     29    1   2     140.0       0    170.0    0.0      0.0    0  Hungary\n",
       "3     30    0   1     170.0       1    170.0    0.0      0.0    0  Hungary\n",
       "4     31    0   2     100.0       1    150.0    0.0      0.0    0  Hungary\n",
       "..   ...  ...  ..       ...     ...      ...    ...      ...  ...      ...\n",
       "450   68    1   3     134.0       0    151.0    1.0      0.0    0       VA\n",
       "451   51    0   4     114.0       2     96.0    0.0      1.0    0       VA\n",
       "452   62    1   4     158.0       1    138.0    1.0      0.0    1       VA\n",
       "453   54    0   4     127.0       1    154.0    0.0      0.0    1       VA\n",
       "456   62    1   2     120.0       2     93.0    1.0      0.0    1       VA\n",
       "\n",
       "[424 rows x 10 columns]"
      ]
     },
     "execution_count": 167,
     "metadata": {},
     "output_type": "execute_result"
    }
   ],
   "source": [
    "data"
   ]
  },
  {
   "cell_type": "markdown",
   "metadata": {},
   "source": [
    "## 1.0 Feature Selection"
   ]
  },
  {
   "cell_type": "code",
   "execution_count": 168,
   "metadata": {},
   "outputs": [],
   "source": [
    "from sklearn.feature_selection import SelectKBest, mutual_info_classif"
   ]
  },
  {
   "cell_type": "markdown",
   "metadata": {},
   "source": [
    "Find the best features"
   ]
  },
  {
   "cell_type": "code",
   "execution_count": 169,
   "metadata": {},
   "outputs": [],
   "source": [
    "# Divide the data\n",
    "X = data.drop(['Num', 'Place'],axis=1)\n",
    "y = data['Num']\n",
    "\n",
    "\n",
    "# Choose the scope of best k\n",
    "select_best_K = SelectKBest(mutual_info_classif, k = 7)\n",
    "X_new = select_best_K.fit_transform(X, y)\n",
    "\n",
    "# Create two data sets to represent the score\n",
    "datascores = pd.DataFrame(select_best_K.scores_)\n",
    "datacolumns = pd.DataFrame(data.columns)\n"
   ]
  },
  {
   "cell_type": "code",
   "execution_count": 170,
   "metadata": {},
   "outputs": [
    {
     "data": {
      "text/plain": [
       "(424, 7)"
      ]
     },
     "execution_count": 170,
     "metadata": {},
     "output_type": "execute_result"
    }
   ],
   "source": [
    "X_new.shape"
   ]
  },
  {
   "cell_type": "code",
   "execution_count": 171,
   "metadata": {},
   "outputs": [
    {
     "name": "stdout",
     "output_type": "stream",
     "text": [
      "      Specs     Score\n",
      "2        Cp  0.161767\n",
      "7   Oldpeak  0.120664\n",
      "6     Exang  0.110702\n",
      "5   Thalach  0.045202\n",
      "0       Age  0.036636\n",
      "1       Sex  0.035663\n",
      "3  Trestbps  0.034826\n"
     ]
    }
   ],
   "source": [
    "# Output the score of each features\n",
    "featureScores = pd.concat([datacolumns,datascores],axis=1)\n",
    "featureScores.columns = ['Specs','Score']  #naming the dataframe columns\n",
    "print(featureScores.nlargest(7,'Score'))  #print 7 best features"
   ]
  },
  {
   "cell_type": "code",
   "execution_count": 172,
   "metadata": {},
   "outputs": [],
   "source": [
    "# Set the feature column with best K\n",
    "BestK = ['Age', \"Sex\", \"Cp\", \"Oldpeak\", \"Exang\", \"Trestbps\", \"Thalach\"]"
   ]
  },
  {
   "cell_type": "markdown",
   "metadata": {},
   "source": [
    "##### Data Splitting"
   ]
  },
  {
   "cell_type": "code",
   "execution_count": 173,
   "metadata": {},
   "outputs": [],
   "source": [
    "# Split the dataset into 30% for test data, and 70% for train data.\n",
    "# Use the best features from our dataset\n",
    "\n",
    "X = data[BestK]\n",
    "y = data['Num']\n",
    "\n",
    "Xtrain, Xtest, ytrain, ytest = train_test_split(X, y, test_size=0.3, random_state=42)"
   ]
  },
  {
   "cell_type": "markdown",
   "metadata": {},
   "source": [
    "##### Classifier analysing with Pipeline"
   ]
  },
  {
   "cell_type": "code",
   "execution_count": 174,
   "metadata": {},
   "outputs": [
    {
     "name": "stdout",
     "output_type": "stream",
     "text": [
      "The accuracy score of LogisticRegression is: 74.22%\n",
      "The accuracy score of SVC is: 67.97%\n",
      "The accuracy score of DecisionTreeClassifier is: 72.66%\n",
      "The accuracy score of KNeighborsClassifier is: 63.28%\n",
      "The accuracy score of GaussianNB is: 82.03%\n"
     ]
    }
   ],
   "source": [
    "from sklearn.svm import SVC\n",
    "from sklearn.tree import DecisionTreeClassifier\n",
    "from sklearn.neighbors import KNeighborsClassifier\n",
    "from sklearn.linear_model import LogisticRegression\n",
    "from sklearn.naive_bayes import GaussianNB\n",
    "\n",
    "from sklearn.pipeline import Pipeline\n",
    "\n",
    "# set up classifiers\n",
    "classifiers = {'LogisticRegression': LogisticRegression(max_iter=500), 'SVC':SVC(), 'DecisionTreeClassifier': DecisionTreeClassifier(),'KNeighborsClassifier':KNeighborsClassifier(), 'GaussianNB': GaussianNB()}\n",
    "\n",
    "for classifier in classifiers:\n",
    "    pipe = Pipeline(steps=[('classifier',  classifiers[classifier])])\n",
    "    pipe.fit(Xtrain, ytrain)   \n",
    "    print(\"The accuracy score of {0} is: {1:.2f}%\".format(classifier,(pipe.score(Xtest, ytest)*100)))"
   ]
  },
  {
   "cell_type": "markdown",
   "metadata": {},
   "source": [
    "##### Classifier analysing"
   ]
  },
  {
   "cell_type": "code",
   "execution_count": 175,
   "metadata": {},
   "outputs": [],
   "source": [
    "accuracies = {}"
   ]
  },
  {
   "cell_type": "markdown",
   "metadata": {},
   "source": [
    "##### 2.1 Decision tree"
   ]
  },
  {
   "cell_type": "code",
   "execution_count": 176,
   "metadata": {},
   "outputs": [
    {
     "name": "stdout",
     "output_type": "stream",
     "text": [
      "Training accuracy: 0.8581081081081081\n",
      "Testing accuracy : 0.78125\n"
     ]
    }
   ],
   "source": [
    "# fit a classification tree with max_depth = 5 (To try with 5 first)\n",
    "from sklearn.tree import DecisionTreeClassifier\n",
    "treeclf = DecisionTreeClassifier(max_depth=5, random_state=1)\n",
    "\n",
    "# Fit our training data\n",
    "treeclf.fit(Xtrain, ytrain)\n",
    "\n",
    "# output the accuracy of train and test\n",
    "print(\"Training accuracy: {}\".format(accuracy_score(ytrain, treeclf.predict(Xtrain))))  #this is only the training accuracy\n",
    "print(\"Testing accuracy : {}\".format(accuracy_score(ytest, treeclf.predict(Xtest))))"
   ]
  },
  {
   "cell_type": "markdown",
   "metadata": {},
   "source": [
    "##### 2.2 Use Cross Validation to get average accuracy"
   ]
  },
  {
   "cell_type": "code",
   "execution_count": 177,
   "metadata": {},
   "outputs": [
    {
     "name": "stdout",
     "output_type": "stream",
     "text": [
      "Accuracy for each fold: [0.56666667 0.76666667 0.8        0.7        0.63333333 0.66666667\n",
      " 0.79310345 0.72413793 0.79310345 0.5862069 ]\n",
      "Mean Accuracy: 0.7029885057471265\n"
     ]
    }
   ],
   "source": [
    "# use crossvalidation to get avg accuracy\n",
    "\n",
    "from sklearn.model_selection import cross_val_score\n",
    "scores = cross_val_score(treeclf, Xtrain, ytrain, cv=10, scoring='accuracy')\n",
    "print(\"Accuracy for each fold: {}\".format(scores))\n",
    "print(\"Mean Accuracy: {}\".format(np.mean(scores)))\n",
    "accuracies['Decision Tree'] = np.mean(scores)"
   ]
  },
  {
   "cell_type": "markdown",
   "metadata": {},
   "source": [
    "##### 2.3 Graph that shows accuracy per decision tree depth on training data to find the best max depth"
   ]
  },
  {
   "cell_type": "code",
   "execution_count": 178,
   "metadata": {},
   "outputs": [
    {
     "data": {
      "image/png": "[encoded data removed]",
      "text/plain": [
       "<Figure size 1080x360 with 1 Axes>"
      ]
     },
     "metadata": {
      "needs_background": "light"
     },
     "output_type": "display_data"
    }
   ],
   "source": [
    "from sklearn.tree import DecisionTreeClassifier\n",
    "from sklearn.model_selection import cross_val_score\n",
    "import numpy as np\n",
    "import matplotlib.pyplot as plt\n",
    "\n",
    "# function for fitting trees of various depths on the training data using cross-validation\n",
    "def run_cross_validation_on_trees(X, y, tree_depths, cv=5, scoring='accuracy'):\n",
    "    cv_scores_list = []\n",
    "    cv_scores_std = []\n",
    "    cv_scores_mean = []\n",
    "    accuracy_scores = []\n",
    "    for depth in tree_depths:\n",
    "        tree_model = DecisionTreeClassifier(max_depth=depth)\n",
    "        cv_scores = cross_val_score(tree_model, X, y, cv=cv, scoring=scoring)\n",
    "        cv_scores_list.append(cv_scores)\n",
    "        cv_scores_mean.append(cv_scores.mean())\n",
    "        cv_scores_std.append(cv_scores.std())\n",
    "        accuracy_scores.append(tree_model.fit(X, y).score(X, y))\n",
    "    cv_scores_mean = np.array(cv_scores_mean)\n",
    "    cv_scores_std = np.array(cv_scores_std)\n",
    "    accuracy_scores = np.array(accuracy_scores)\n",
    "    return cv_scores_mean, cv_scores_std, accuracy_scores\n",
    "  \n",
    "# function for plotting cross-validation results\n",
    "def plot_cross_validation_on_trees(depths, cv_scores_mean, cv_scores_std, accuracy_scores, title):\n",
    "    fig, ax = plt.subplots(1,1, figsize=(15,5))\n",
    "    ax.plot(depths, cv_scores_mean, '-o', label='mean cross-validation accuracy', alpha=0.9)\n",
    "    ax.fill_between(depths, cv_scores_mean-2*cv_scores_std, cv_scores_mean+2*cv_scores_std, alpha=0.2)\n",
    "    ylim = plt.ylim()\n",
    "    ax.plot(depths, accuracy_scores, '-*', label='train accuracy', alpha=0.9)\n",
    "    ax.set_title(title, fontsize=16)\n",
    "    ax.set_xlabel('Tree depth', fontsize=14)\n",
    "    ax.set_ylabel('Accuracy', fontsize=14)\n",
    "    ax.set_ylim(ylim)\n",
    "    ax.set_xticks(depths)\n",
    "    ax.legend()\n",
    "\n",
    "# fitting trees of depth 1 to 24\n",
    "sm_tree_depths = range(1,25)\n",
    "sm_cv_scores_mean, sm_cv_scores_std, sm_accuracy_scores = run_cross_validation_on_trees(Xtrain, ytrain, sm_tree_depths)\n",
    "\n",
    "# plotting accuracy\n",
    "plot_cross_validation_on_trees(sm_tree_depths, sm_cv_scores_mean, sm_cv_scores_std, sm_accuracy_scores, \n",
    "                               'Accuracy comparison of training/validation set')\n",
    "\n",
    "\n",
    "    \n",
    " \n"
   ]
  },
  {
   "cell_type": "code",
   "execution_count": 179,
   "metadata": {},
   "outputs": [
    {
     "name": "stdout",
     "output_type": "stream",
     "text": [
      "The depth 1 tree achieves the best mean cross-validation accuracy 77.72316 +/- 4.20058% on training dataset\n"
     ]
    }
   ],
   "source": [
    "idx_max = sm_cv_scores_mean.argmax()\n",
    "sm_best_tree_depth = sm_tree_depths[idx_max]\n",
    "sm_best_tree_cv_score = sm_cv_scores_mean[idx_max]\n",
    "sm_best_tree_cv_score_std = sm_cv_scores_std[idx_max]\n",
    "print('The depth {} tree achieves the best mean cross-validation accuracy {} +/- {}% on training dataset'.format(\n",
    "      sm_best_tree_depth, round(sm_best_tree_cv_score*100,5), round(sm_best_tree_cv_score_std*100, 5)))\n"
   ]
  },
  {
   "cell_type": "code",
   "execution_count": 180,
   "metadata": {},
   "outputs": [
    {
     "name": "stdout",
     "output_type": "stream",
     "text": [
      "Training accuracy: 0.777027027027027\n",
      "Testing accuracy : 0.7109375\n"
     ]
    }
   ],
   "source": [
    "treeclf = DecisionTreeClassifier(max_depth= 1, random_state=1)\n",
    "\n",
    "# Fit our training data\n",
    "treeclf.fit(Xtrain, ytrain)\n",
    "print(\"Training accuracy: {}\".format(accuracy_score(ytrain, treeclf.predict(Xtrain))))  # This is not important\n",
    "print(\"Testing accuracy : {}\".format(accuracy_score(ytest, treeclf.predict(Xtest))))    # this is the performance of our method"
   ]
  },
  {
   "cell_type": "markdown",
   "metadata": {},
   "source": [
    "##### 2.4 Export the decision tree graph"
   ]
  },
  {
   "cell_type": "code",
   "execution_count": 181,
   "metadata": {},
   "outputs": [
    {
     "data": {
      "image/svg+xml": [
       "<?xml version=\"1.0\" encoding=\"UTF-8\" standalone=\"no\"?>\r\n",
       "<!DOCTYPE svg PUBLIC \"-//W3C//DTD SVG 1.1//EN\"\r\n",
       " \"http://www.w3.org/Graphics/SVG/1.1/DTD/svg11.dtd\">\r\n",
       "<!-- Generated by graphviz version 2.38.0 (20140413.2041)\r\n",
       " -->\r\n",
       "<!-- Title: Tree Pages: 1 -->\r\n",
       "<svg width=\"270pt\" height=\"186pt\"\r\n",
       " viewBox=\"0.00 0.00 270.00 186.00\" xmlns=\"http://www.w3.org/2000/svg\" xmlns:xlink=\"http://www.w3.org/1999/xlink\">\r\n",
       "<g id=\"graph0\" class=\"graph\" transform=\"scale(1 1) rotate(0) translate(4 182)\">\r\n",
       "<title>Tree</title>\r\n",
       "<polygon fill=\"white\" stroke=\"none\" points=\"-4,4 -4,-182 266,-182 266,4 -4,4\"/>\r\n",
       "<!-- 0 -->\r\n",
       "<g id=\"node1\" class=\"node\"><title>0</title>\r\n",
       "<path fill=\"#fdf7f2\" stroke=\"black\" d=\"M184,-178C184,-178 78,-178 78,-178 72,-178 66,-172 66,-166 66,-166 66,-112 66,-112 66,-106 72,-100 78,-100 78,-100 184,-100 184,-100 190,-100 196,-106 196,-112 196,-112 196,-166 196,-166 196,-172 190,-178 184,-178\"/>\r\n",
       "<text text-anchor=\"start\" x=\"103.5\" y=\"-163.8\" font-family=\"Helvetica,sans-Serif\" font-size=\"14.00\">Cp ≤ 3.5</text>\r\n",
       "<text text-anchor=\"start\" x=\"93.5\" y=\"-149.8\" font-family=\"Helvetica,sans-Serif\" font-size=\"14.00\">gini = 0.499</text>\r\n",
       "<text text-anchor=\"start\" x=\"83.5\" y=\"-135.8\" font-family=\"Helvetica,sans-Serif\" font-size=\"14.00\">samples = 296</text>\r\n",
       "<text text-anchor=\"start\" x=\"74\" y=\"-121.8\" font-family=\"Helvetica,sans-Serif\" font-size=\"14.00\">value = [153, 143]</text>\r\n",
       "<text text-anchor=\"start\" x=\"99.5\" y=\"-107.8\" font-family=\"Helvetica,sans-Serif\" font-size=\"14.00\">class = y</text>\r\n",
       "<text text-anchor=\"start\" x=\"155.5\" y=\"-107.8\" font-family=\"Helvetica,sans-Serif\" baseline-shift=\"sub\" font-size=\"14.00\">0</text>\r\n",
       "</g>\r\n",
       "<!-- 1 -->\r\n",
       "<g id=\"node2\" class=\"node\"><title>1</title>\r\n",
       "<path fill=\"#eca26d\" stroke=\"black\" d=\"M110,-64C110,-64 12,-64 12,-64 6,-64 7.10543e-015,-58 7.10543e-015,-52 7.10543e-015,-52 7.10543e-015,-12 7.10543e-015,-12 7.10543e-015,-6 6,-0 12,-0 12,-0 110,-0 110,-0 116,-0 122,-6 122,-12 122,-12 122,-52 122,-52 122,-58 116,-64 110,-64\"/>\r\n",
       "<text text-anchor=\"start\" x=\"27.5\" y=\"-49.8\" font-family=\"Helvetica,sans-Serif\" font-size=\"14.00\">gini = 0.33</text>\r\n",
       "<text text-anchor=\"start\" x=\"13.5\" y=\"-35.8\" font-family=\"Helvetica,sans-Serif\" font-size=\"14.00\">samples = 149</text>\r\n",
       "<text text-anchor=\"start\" x=\"8\" y=\"-21.8\" font-family=\"Helvetica,sans-Serif\" font-size=\"14.00\">value = [118, 31]</text>\r\n",
       "<text text-anchor=\"start\" x=\"29.5\" y=\"-7.8\" font-family=\"Helvetica,sans-Serif\" font-size=\"14.00\">class = y</text>\r\n",
       "<text text-anchor=\"start\" x=\"85.5\" y=\"-7.8\" font-family=\"Helvetica,sans-Serif\" baseline-shift=\"sub\" font-size=\"14.00\">0</text>\r\n",
       "</g>\r\n",
       "<!-- 0&#45;&gt;1 -->\r\n",
       "<g id=\"edge1\" class=\"edge\"><title>0&#45;&gt;1</title>\r\n",
       "<path fill=\"none\" stroke=\"black\" d=\"M105.53,-99.7956C99.6056,-90.9084 93.2864,-81.4296 87.3255,-72.4883\"/>\r\n",
       "<polygon fill=\"black\" stroke=\"black\" points=\"90.204,-70.4962 81.7448,-64.1172 84.3796,-74.3792 90.204,-70.4962\"/>\r\n",
       "<text text-anchor=\"middle\" x=\"76.8419\" y=\"-84.9317\" font-family=\"Helvetica,sans-Serif\" font-size=\"14.00\">True</text>\r\n",
       "</g>\r\n",
       "<!-- 2 -->\r\n",
       "<g id=\"node3\" class=\"node\"><title>2</title>\r\n",
       "<path fill=\"#77bced\" stroke=\"black\" d=\"M250,-64C250,-64 152,-64 152,-64 146,-64 140,-58 140,-52 140,-52 140,-12 140,-12 140,-6 146,-0 152,-0 152,-0 250,-0 250,-0 256,-0 262,-6 262,-12 262,-12 262,-52 262,-52 262,-58 256,-64 250,-64\"/>\r\n",
       "<text text-anchor=\"start\" x=\"163.5\" y=\"-49.8\" font-family=\"Helvetica,sans-Serif\" font-size=\"14.00\">gini = 0.363</text>\r\n",
       "<text text-anchor=\"start\" x=\"153.5\" y=\"-35.8\" font-family=\"Helvetica,sans-Serif\" font-size=\"14.00\">samples = 147</text>\r\n",
       "<text text-anchor=\"start\" x=\"148\" y=\"-21.8\" font-family=\"Helvetica,sans-Serif\" font-size=\"14.00\">value = [35, 112]</text>\r\n",
       "<text text-anchor=\"start\" x=\"169.5\" y=\"-7.8\" font-family=\"Helvetica,sans-Serif\" font-size=\"14.00\">class = y</text>\r\n",
       "<text text-anchor=\"start\" x=\"225.5\" y=\"-7.8\" font-family=\"Helvetica,sans-Serif\" baseline-shift=\"sub\" font-size=\"14.00\">1</text>\r\n",
       "</g>\r\n",
       "<!-- 0&#45;&gt;2 -->\r\n",
       "<g id=\"edge2\" class=\"edge\"><title>0&#45;&gt;2</title>\r\n",
       "<path fill=\"none\" stroke=\"black\" d=\"M156.47,-99.7956C162.394,-90.9084 168.714,-81.4296 174.674,-72.4883\"/>\r\n",
       "<polygon fill=\"black\" stroke=\"black\" points=\"177.62,-74.3792 180.255,-64.1172 171.796,-70.4962 177.62,-74.3792\"/>\r\n",
       "<text text-anchor=\"middle\" x=\"185.158\" y=\"-84.9317\" font-family=\"Helvetica,sans-Serif\" font-size=\"14.00\">False</text>\r\n",
       "</g>\r\n",
       "</g>\r\n",
       "</svg>\r\n"
      ],
      "text/plain": [
       "<graphviz.files.Source at 0x23f1f58a648>"
      ]
     },
     "execution_count": 181,
     "metadata": {},
     "output_type": "execute_result"
    }
   ],
   "source": [
    "dot_data = tree.export_graphviz(treeclf, out_file=None, \n",
    "                     feature_names=BestK,  \n",
    "                     class_names=True,  \n",
    "                     filled=True, rounded=True,  \n",
    "                     special_characters=True)  \n",
    "graph = graphviz.Source(dot_data)  \n",
    "graph \n"
   ]
  },
  {
   "cell_type": "markdown",
   "metadata": {},
   "source": [
    "##### 3. Logistic Regression"
   ]
  },
  {
   "cell_type": "code",
   "execution_count": 182,
   "metadata": {},
   "outputs": [
    {
     "name": "stdout",
     "output_type": "stream",
     "text": [
      "The accuracy score for Logistic Regression is: 0.7421875\n",
      "Precision of predictions is 0.6567164179104478\n",
      "Recall of predictions is 0.8148148148148148\n",
      "F1-score of predictions is  0.7272727272727273\n"
     ]
    }
   ],
   "source": [
    "#Set model\n",
    "lr = LogisticRegression(max_iter=500)\n",
    "\n",
    "#fit svm model to train data\n",
    "lr.fit(Xtrain, ytrain)\n",
    "\n",
    "#Predict the output of the test set.\n",
    "ypred = lr.predict(Xtest)\n",
    "\n",
    "\n",
    "print(\"The accuracy score for Logistic Regression is:\", accuracy_score(ytest, ypred))\n",
    "\n",
    "print('Precision of predictions is', precision_score(ytest,ypred))\n",
    "\n",
    "print('Recall of predictions is', recall_score(ytest,ypred))\n",
    "\n",
    "print('F1-score of predictions is ',f1_score(ytest,ypred))"
   ]
  },
  {
   "cell_type": "markdown",
   "metadata": {},
   "source": [
    "Cross Validation"
   ]
  },
  {
   "cell_type": "code",
   "execution_count": 183,
   "metadata": {},
   "outputs": [
    {
     "name": "stdout",
     "output_type": "stream",
     "text": [
      "Accuracy for each fold: [0.63333333 0.8        0.73333333 0.8        0.63333333 0.8\n",
      " 0.79310345 0.82758621 0.86206897 0.65517241]\n",
      "Mean Accuracy: 0.7537931034482759\n"
     ]
    }
   ],
   "source": [
    "Scores = cross_val_score(lr, Xtrain, ytrain, cv=10)\n",
    "print(\"Accuracy for each fold: {}\".format(Scores))\n",
    "print(\"Mean Accuracy: {}\".format(np.mean(Scores)))\n",
    "accuracies['Logistic Regression'] = np.mean(Scores)"
   ]
  },
  {
   "cell_type": "markdown",
   "metadata": {},
   "source": [
    "Confusion matrix"
   ]
  },
  {
   "cell_type": "code",
   "execution_count": 184,
   "metadata": {},
   "outputs": [
    {
     "data": {
      "text/plain": [
       "Text(0.5, 1.1, 'Confusion matrix of Logistic Regression')"
      ]
     },
     "execution_count": 184,
     "metadata": {},
     "output_type": "execute_result"
    },
    {
     "data": {
      "image/png": "[encoded data removed]",
      "text/plain": [
       "<Figure size 432x288 with 2 Axes>"
      ]
     },
     "metadata": {
      "needs_background": "light"
     },
     "output_type": "display_data"
    }
   ],
   "source": [
    "sns.heatmap(pd.DataFrame(confusion_matrix(ytest, ypred)), annot=True,cmap=\"Reds\" , fmt='g')\n",
    "plt.tight_layout()\n",
    "plt.title('Confusion matrix of Logistic Regression', y=1.1)"
   ]
  },
  {
   "cell_type": "markdown",
   "metadata": {},
   "source": [
    "classification report"
   ]
  },
  {
   "cell_type": "code",
   "execution_count": 185,
   "metadata": {},
   "outputs": [
    {
     "name": "stdout",
     "output_type": "stream",
     "text": [
      "              precision    recall  f1-score   support\n",
      "\n",
      "           0       0.84      0.69      0.76        74\n",
      "           1       0.66      0.81      0.73        54\n",
      "\n",
      "    accuracy                           0.74       128\n",
      "   macro avg       0.75      0.75      0.74       128\n",
      "weighted avg       0.76      0.74      0.74       128\n",
      "\n"
     ]
    }
   ],
   "source": [
    "from sklearn.metrics import classification_report\n",
    "print (classification_report(ytest, ypred))"
   ]
  },
  {
   "cell_type": "markdown",
   "metadata": {},
   "source": [
    "##### 4.1 SVM (kernel=’linear’, C=1)"
   ]
  },
  {
   "cell_type": "code",
   "execution_count": 186,
   "metadata": {},
   "outputs": [
    {
     "name": "stdout",
     "output_type": "stream",
     "text": [
      "The accuracy score for SVM is: 0.75\n",
      "Precision of predictions is 0.6571428571428571\n",
      "Recall of predictions is 0.8518518518518519\n",
      "F1-score of predictions is  0.7419354838709677\n"
     ]
    }
   ],
   "source": [
    "#Set model\n",
    "svm = SVC(kernel='linear', C=1)\n",
    "\n",
    "#fit svm model to train data\n",
    "svm.fit(Xtrain, ytrain)\n",
    "\n",
    "#Predict the output of the test set.\n",
    "ypred = svm.predict(Xtest)\n",
    "\n",
    "\n",
    "print(\"The accuracy score for SVM is:\", accuracy_score(ytest, ypred))\n",
    "\n",
    "print('Precision of predictions is', precision_score(ytest,ypred))\n",
    "\n",
    "print('Recall of predictions is', recall_score(ytest,ypred))\n",
    "\n",
    "print('F1-score of predictions is ',f1_score(ytest,ypred))"
   ]
  },
  {
   "cell_type": "markdown",
   "metadata": {},
   "source": [
    "Cross Validation"
   ]
  },
  {
   "cell_type": "code",
   "execution_count": 187,
   "metadata": {},
   "outputs": [
    {
     "name": "stdout",
     "output_type": "stream",
     "text": [
      "Accuracy for each fold: [0.63333333 0.8        0.7        0.8        0.66666667 0.8\n",
      " 0.82758621 0.82758621 0.82758621 0.65517241]\n",
      "Mean Accuracy: 0.7537931034482759\n"
     ]
    }
   ],
   "source": [
    "Scores = cross_val_score(svm, Xtrain, ytrain, cv=10)\n",
    "print(\"Accuracy for each fold: {}\".format(Scores))\n",
    "print(\"Mean Accuracy: {}\".format(np.mean(Scores)))\n",
    "accuracies['SVM'] = np.mean(Scores)"
   ]
  },
  {
   "cell_type": "markdown",
   "metadata": {},
   "source": [
    "Confusion matrix"
   ]
  },
  {
   "cell_type": "code",
   "execution_count": 188,
   "metadata": {},
   "outputs": [
    {
     "data": {
      "text/plain": [
       "Text(0.5, 1.1, 'Confusion matrix of SVM (kernel=’linear’, C=1)')"
      ]
     },
     "execution_count": 188,
     "metadata": {},
     "output_type": "execute_result"
    },
    {
     "data": {
      "image/png": "[encoded data removed]",
      "text/plain": [
       "<Figure size 432x288 with 2 Axes>"
      ]
     },
     "metadata": {
      "needs_background": "light"
     },
     "output_type": "display_data"
    }
   ],
   "source": [
    "sns.heatmap(pd.DataFrame(confusion_matrix(ytest, ypred)), annot=True,cmap=\"Reds\" , fmt='g')\n",
    "plt.tight_layout()\n",
    "plt.title('Confusion matrix of SVM (kernel=’linear’, C=1)', y=1.1)"
   ]
  },
  {
   "cell_type": "markdown",
   "metadata": {},
   "source": [
    "classification report"
   ]
  },
  {
   "cell_type": "code",
   "execution_count": 189,
   "metadata": {},
   "outputs": [
    {
     "name": "stdout",
     "output_type": "stream",
     "text": [
      "              precision    recall  f1-score   support\n",
      "\n",
      "           0       0.86      0.68      0.76        74\n",
      "           1       0.66      0.85      0.74        54\n",
      "\n",
      "    accuracy                           0.75       128\n",
      "   macro avg       0.76      0.76      0.75       128\n",
      "weighted avg       0.78      0.75      0.75       128\n",
      "\n"
     ]
    }
   ],
   "source": [
    "from sklearn.metrics import classification_report\n",
    "print (classification_report(ytest, ypred))"
   ]
  },
  {
   "cell_type": "markdown",
   "metadata": {},
   "source": [
    "##### 4.2 SVC(kernel='rbf', C=1, gamma = 'auto'),"
   ]
  },
  {
   "cell_type": "code",
   "execution_count": 190,
   "metadata": {},
   "outputs": [
    {
     "name": "stdout",
     "output_type": "stream",
     "text": [
      "The accuracy score for SVM is: 0.5859375\n",
      "Precision of predictions is 0.5185185185185185\n",
      "Recall of predictions is 0.25925925925925924\n",
      "F1-score of predictions is  0.345679012345679\n"
     ]
    }
   ],
   "source": [
    "#Set model\n",
    "svm = SVC(kernel='rbf', C=1, gamma = 'auto')\n",
    "\n",
    "#fit svm model to train data\n",
    "svm.fit(Xtrain, ytrain)\n",
    "\n",
    "#Predict the output of the test set.\n",
    "ypred = svm.predict(Xtest)\n",
    "\n",
    "\n",
    "print(\"The accuracy score for SVM is:\", accuracy_score(ytest, ypred))\n",
    "\n",
    "print('Precision of predictions is', precision_score(ytest,ypred))\n",
    "\n",
    "print('Recall of predictions is', recall_score(ytest,ypred))\n",
    "\n",
    "print('F1-score of predictions is ',f1_score(ytest,ypred))"
   ]
  },
  {
   "cell_type": "markdown",
   "metadata": {},
   "source": [
    "Cross Validation"
   ]
  },
  {
   "cell_type": "code",
   "execution_count": 191,
   "metadata": {},
   "outputs": [
    {
     "name": "stdout",
     "output_type": "stream",
     "text": [
      "Accuracy for each fold: [0.53333333 0.56666667 0.53333333 0.53333333 0.56666667 0.5\n",
      " 0.62068966 0.68965517 0.62068966 0.51724138]\n",
      "Mean Accuracy: 0.56816091954023\n"
     ]
    }
   ],
   "source": [
    "Scores = cross_val_score(svm, Xtrain, ytrain, cv=10)\n",
    "print(\"Accuracy for each fold: {}\".format(Scores))\n",
    "print(\"Mean Accuracy: {}\".format(np.mean(Scores)))\n",
    "accuracies['SVC'] = np.mean(Scores)"
   ]
  },
  {
   "cell_type": "markdown",
   "metadata": {},
   "source": [
    "Confusion matrix"
   ]
  },
  {
   "cell_type": "code",
   "execution_count": 192,
   "metadata": {},
   "outputs": [
    {
     "data": {
      "text/plain": [
       "Text(0.5, 1.1, \"Confusion matrix of SVC(kernel='rbf', C=1, gamma = 'auto')\")"
      ]
     },
     "execution_count": 192,
     "metadata": {},
     "output_type": "execute_result"
    },
    {
     "data": {
      "image/png": "[encoded data removed]",
      "text/plain": [
       "<Figure size 432x288 with 2 Axes>"
      ]
     },
     "metadata": {
      "needs_background": "light"
     },
     "output_type": "display_data"
    }
   ],
   "source": [
    "sns.heatmap(pd.DataFrame(confusion_matrix(ytest, ypred)), annot=True,cmap=\"Reds\" , fmt='g')\n",
    "plt.tight_layout()\n",
    "plt.title('Confusion matrix of SVC(kernel=\\'rbf\\', C=1, gamma = \\'auto\\')', y=1.1)"
   ]
  },
  {
   "cell_type": "markdown",
   "metadata": {},
   "source": [
    "classification report"
   ]
  },
  {
   "cell_type": "code",
   "execution_count": 193,
   "metadata": {},
   "outputs": [
    {
     "name": "stdout",
     "output_type": "stream",
     "text": [
      "              precision    recall  f1-score   support\n",
      "\n",
      "           0       0.60      0.82      0.70        74\n",
      "           1       0.52      0.26      0.35        54\n",
      "\n",
      "    accuracy                           0.59       128\n",
      "   macro avg       0.56      0.54      0.52       128\n",
      "weighted avg       0.57      0.59      0.55       128\n",
      "\n"
     ]
    }
   ],
   "source": [
    "from sklearn.metrics import classification_report\n",
    "print (classification_report(ytest, ypred))"
   ]
  },
  {
   "cell_type": "markdown",
   "metadata": {},
   "source": [
    "##### 5. K Nearest Neighbour"
   ]
  },
  {
   "cell_type": "code",
   "execution_count": 194,
   "metadata": {},
   "outputs": [
    {
     "name": "stdout",
     "output_type": "stream",
     "text": [
      "The accuracy score for KNN is: 0.6640625\n",
      "Precision of predictions is 0.6486486486486487\n",
      "Recall of predictions is 0.4444444444444444\n",
      "F1-score of predictions is  0.5274725274725275\n"
     ]
    }
   ],
   "source": [
    "#Set model\n",
    "knn = KNeighborsClassifier(n_neighbors = 2)\n",
    "\n",
    "#fit svm model to train data\n",
    "knn.fit(Xtrain, ytrain)\n",
    "\n",
    "#Predict the output of the test set.\n",
    "ypred = knn.predict(Xtest)\n",
    "\n",
    "\n",
    "print(\"The accuracy score for KNN is:\", accuracy_score(ytest, ypred))\n",
    "\n",
    "print('Precision of predictions is', precision_score(ytest,ypred))\n",
    "\n",
    "print('Recall of predictions is', recall_score(ytest,ypred))\n",
    "\n",
    "print('F1-score of predictions is ',f1_score(ytest,ypred))"
   ]
  },
  {
   "cell_type": "code",
   "execution_count": 195,
   "metadata": {},
   "outputs": [
    {
     "name": "stdout",
     "output_type": "stream",
     "text": [
      "Accuracy for each fold: [0.5        0.56666667 0.7        0.5        0.5        0.5\n",
      " 0.5862069  0.5862069  0.65517241 0.5862069 ]\n",
      "Mean Accuracy: 0.5680459770114943\n"
     ]
    }
   ],
   "source": [
    "Scores = cross_val_score(knn, Xtrain, ytrain, cv=10)\n",
    "print(\"Accuracy for each fold: {}\".format(Scores))\n",
    "print(\"Mean Accuracy: {}\".format(np.mean(Scores)))\n",
    "accuracies['K Nearest Neighbour'] = np.mean(Scores)"
   ]
  },
  {
   "cell_type": "markdown",
   "metadata": {},
   "source": [
    "Confusion matrix"
   ]
  },
  {
   "cell_type": "code",
   "execution_count": 196,
   "metadata": {},
   "outputs": [
    {
     "data": {
      "text/plain": [
       "Text(0.5, 1.1, 'Confusion matrix of K Nearest Neighbour')"
      ]
     },
     "execution_count": 196,
     "metadata": {},
     "output_type": "execute_result"
    },
    {
     "data": {
      "image/png": "[encoded data removed]",
      "text/plain": [
       "<Figure size 432x288 with 2 Axes>"
      ]
     },
     "metadata": {
      "needs_background": "light"
     },
     "output_type": "display_data"
    }
   ],
   "source": [
    "sns.heatmap(pd.DataFrame(confusion_matrix(ytest, ypred)), annot=True,cmap=\"Reds\" , fmt='g')\n",
    "plt.tight_layout()\n",
    "plt.title('Confusion matrix of K Nearest Neighbour', y=1.1)"
   ]
  },
  {
   "cell_type": "markdown",
   "metadata": {},
   "source": [
    "classification report"
   ]
  },
  {
   "cell_type": "code",
   "execution_count": 197,
   "metadata": {},
   "outputs": [
    {
     "name": "stdout",
     "output_type": "stream",
     "text": [
      "              precision    recall  f1-score   support\n",
      "\n",
      "           0       0.67      0.82      0.74        74\n",
      "           1       0.65      0.44      0.53        54\n",
      "\n",
      "    accuracy                           0.66       128\n",
      "   macro avg       0.66      0.63      0.63       128\n",
      "weighted avg       0.66      0.66      0.65       128\n",
      "\n"
     ]
    }
   ],
   "source": [
    "from sklearn.metrics import classification_report\n",
    "print (classification_report(ytest, ypred))"
   ]
  },
  {
   "cell_type": "markdown",
   "metadata": {},
   "source": [
    "##### 5. GaussianNB"
   ]
  },
  {
   "cell_type": "code",
   "execution_count": 198,
   "metadata": {},
   "outputs": [
    {
     "name": "stdout",
     "output_type": "stream",
     "text": [
      "The accuracy score for GaussianNB is: 0.8203125\n",
      "Precision of predictions is 0.7818181818181819\n",
      "Recall of predictions is 0.7962962962962963\n",
      "F1-score of predictions is  0.7889908256880734\n"
     ]
    }
   ],
   "source": [
    "#Set model\n",
    "gnp = GaussianNB()\n",
    "\n",
    "#fit svm model to train data\n",
    "gnp.fit(Xtrain, ytrain)\n",
    "\n",
    "#Predict the output of the test set.\n",
    "ypred = gnp.predict(Xtest)\n",
    "\n",
    "\n",
    "print(\"The accuracy score for GaussianNB is:\", accuracy_score(ytest, ypred))\n",
    "\n",
    "print('Precision of predictions is', precision_score(ytest,ypred))\n",
    "\n",
    "print('Recall of predictions is', recall_score(ytest,ypred))\n",
    "\n",
    "print('F1-score of predictions is ',f1_score(ytest,ypred))"
   ]
  },
  {
   "cell_type": "code",
   "execution_count": 199,
   "metadata": {},
   "outputs": [
    {
     "name": "stdout",
     "output_type": "stream",
     "text": [
      "Accuracy for each fold: [0.63333333 0.8        0.8        0.76666667 0.63333333 0.76666667\n",
      " 0.79310345 0.79310345 0.93103448 0.72413793]\n",
      "Mean Accuracy: 0.7641379310344829\n"
     ]
    }
   ],
   "source": [
    "Scores = cross_val_score(gnp, Xtrain, ytrain, cv=10)\n",
    "print(\"Accuracy for each fold: {}\".format(Scores))\n",
    "print(\"Mean Accuracy: {}\".format(np.mean(Scores)))\n",
    "accuracies['GaussianNB'] = np.mean(Scores)"
   ]
  },
  {
   "cell_type": "markdown",
   "metadata": {},
   "source": [
    "Confusion matrix"
   ]
  },
  {
   "cell_type": "code",
   "execution_count": 200,
   "metadata": {},
   "outputs": [
    {
     "data": {
      "text/plain": [
       "Text(0.5, 1.1, 'Confusion matrix of GaussianNB')"
      ]
     },
     "execution_count": 200,
     "metadata": {},
     "output_type": "execute_result"
    },
    {
     "data": {
      "image/png": "[encoded data removed]",
      "text/plain": [
       "<Figure size 432x288 with 2 Axes>"
      ]
     },
     "metadata": {
      "needs_background": "light"
     },
     "output_type": "display_data"
    }
   ],
   "source": [
    "sns.heatmap(pd.DataFrame(confusion_matrix(ytest, ypred)), annot=True,cmap=\"Reds\" , fmt='g')\n",
    "plt.tight_layout()\n",
    "plt.title('Confusion matrix of GaussianNB', y=1.1)"
   ]
  },
  {
   "cell_type": "markdown",
   "metadata": {},
   "source": [
    "classification reprot"
   ]
  },
  {
   "cell_type": "code",
   "execution_count": 201,
   "metadata": {},
   "outputs": [
    {
     "name": "stdout",
     "output_type": "stream",
     "text": [
      "              precision    recall  f1-score   support\n",
      "\n",
      "           0       0.85      0.84      0.84        74\n",
      "           1       0.78      0.80      0.79        54\n",
      "\n",
      "    accuracy                           0.82       128\n",
      "   macro avg       0.82      0.82      0.82       128\n",
      "weighted avg       0.82      0.82      0.82       128\n",
      "\n"
     ]
    }
   ],
   "source": [
    "from sklearn.metrics import classification_report\n",
    "print (classification_report(ytest, ypred))"
   ]
  },
  {
   "cell_type": "markdown",
   "metadata": {},
   "source": [
    "#### Applying model in real world"
   ]
  },
  {
   "cell_type": "code",
   "execution_count": 133,
   "metadata": {},
   "outputs": [
    {
     "data": {
      "text/plain": [
       "['Age', 'Sex', 'Cp', 'Oldpeak', 'Exang', 'Trestbps', 'Thalach']"
      ]
     },
     "execution_count": 133,
     "metadata": {},
     "output_type": "execute_result"
    }
   ],
   "source": [
    "BestK"
   ]
  },
  {
   "cell_type": "code",
   "execution_count": null,
   "metadata": {},
   "outputs": [],
   "source": [
    "find out whether a person can get heart disease"
   ]
  },
  {
   "cell_type": "code",
   "execution_count": 138,
   "metadata": {},
   "outputs": [
    {
     "name": "stdout",
     "output_type": "stream",
     "text": [
      "Patient's age (Age): >>> 25\n",
      "Patient's gender. male=0, female=1 (Sex): >>> 1\n",
      "Patient's Chest pain type (Cp): >>> 2\n",
      "Patient's ST depression induced by exercise relative to rest. (Oldpeak)>>> 0\n",
      "Is patient's Exercise induced angina? (Exang): >>> 1\n",
      "Patient's Resting blood pressure (Trestbps): >>> 130\n",
      "Patient's Maximum heart rate achieved (Thalach): >>> 160\n",
      "\n",
      "\n",
      "Result:\n",
      "The patient will not develop a Heart Disease.\n"
     ]
    }
   ],
   "source": [
    "from sklearn.preprocessing import MinMaxScaler\n",
    "\n",
    "def heart_disease_predict():\n",
    "    my_predictors = []\n",
    "    features=['Age', 'Sex', 'Cp', 'Oldpeak', 'Exang', 'Trestbps', 'Thalach']\n",
    "    \n",
    "    #Ask for input\n",
    "    \n",
    "    Age = input(\"Patient's age (Age): >>> \") \n",
    "    my_predictors.append(Age)\n",
    "    \n",
    "    Sex = input(\"Patient's gender. male=0, female=1 (Sex): >>> \") \n",
    "    my_predictors.append(Sex)\n",
    "    \n",
    "    Cp = input(\"Patient's Chest pain type (Cp): >>> \") \n",
    "    my_predictors.append(Cp)\n",
    "    \n",
    "    Oldpeak = input(\"Patient's ST depression induced by exercise relative to rest. (Oldpeak)>>> \") \n",
    "    my_predictors.append(Oldpeak)\n",
    "    \n",
    "    Exang = input(\"Is patient's Exercise induced angina? (Exang): >>> \") \n",
    "    my_predictors.append(Exang)\n",
    "    \n",
    "    Trestbps = input(\"Patient's Resting blood pressure (Trestbps): >>> \") \n",
    "    my_predictors.append(Trestbps)\n",
    "    \n",
    "    Thalach = input(\"Patient's Maximum heart rate achieved (Thalach): >>> \")\n",
    "    my_predictors.append(Thalach)\n",
    "\n",
    "\n",
    "    \n",
    "    my_data = dict(zip(features, my_predictors))\n",
    "    my_df = pd.DataFrame(my_data, index=[0])\n",
    "    scaler = MinMaxScaler(feature_range=(0,1)) \n",
    "   \n",
    "    # Put scaler to column:\n",
    "    my_df_scaled = pd.DataFrame(scaler.fit_transform(my_df), columns=my_df.columns)\n",
    "    \n",
    "    # Using GaussianNB\n",
    "    my_y_pred = gnp.predict(my_df)\n",
    "    print('\\n')\n",
    "    print('Result:')\n",
    "    if my_y_pred == 1:\n",
    "        print(\"The patient will develop a Heart Disease.\")\n",
    "    if my_y_pred == 0:\n",
    "        print(\"The patient will not develop a Heart Disease.\")\n",
    "        \n",
    "heart_disease_predict()"
   ]
  },
  {
   "cell_type": "markdown",
   "metadata": {},
   "source": [
    "# Conclusion"
   ]
  },
  {
   "cell_type": "code",
   "execution_count": 139,
   "metadata": {},
   "outputs": [
    {
     "data": {
      "text/plain": [
       "{'Decision Tree': 0.7029885057471265,\n",
       " 'Logistic Regression': 0.7537931034482759,\n",
       " 'SVM': 0.7537931034482759,\n",
       " 'SVC': 0.56816091954023,\n",
       " 'K Nearest Neighbour': 0.5680459770114943,\n",
       " 'GaussianNB': 0.7641379310344829}"
      ]
     },
     "execution_count": 139,
     "metadata": {},
     "output_type": "execute_result"
    }
   ],
   "source": [
    "accuracies"
   ]
  },
  {
   "cell_type": "markdown",
   "metadata": {},
   "source": [
    "display all accuracies in histograph"
   ]
  },
  {
   "cell_type": "code",
   "execution_count": 140,
   "metadata": {},
   "outputs": [
    {
     "data": {
      "image/png": "[encoded data removed]",
      "text/plain": [
       "<Figure size 1152x360 with 1 Axes>"
      ]
     },
     "metadata": {},
     "output_type": "display_data"
    }
   ],
   "source": [
    "colors = [\"#FFC0CB\", \"#CD5C5C\", \"#FFD700\", \"#BDB76B\",\"#CFC60E\",\"#7B68EE\" ]\n",
    "\n",
    "sns.set_style(\"whitegrid\")\n",
    "plt.figure(figsize=(16,5))\n",
    "plt.yticks(np.arange(0,100,10))\n",
    "plt.ylabel(\"Accuracy %\")\n",
    "plt.xlabel(\"Algorithms\")\n",
    "sns.barplot(x=list(accuracies.keys()), y=list(accuracies.values()), palette=colors)\n",
    "plt.show()"
   ]
  }
 ],
 "metadata": {
  "colab": {
   "collapsed_sections": [],
   "name": "draft.ipynb",
   "provenance": []
  },
  "kernelspec": {
   "display_name": "Python 3",
   "language": "python",
   "name": "python3"
  },
  "language_info": {
   "codemirror_mode": {
    "name": "ipython",
    "version": 3
   },
   "file_extension": ".py",
   "mimetype": "text/x-python",
   "name": "python",
   "nbconvert_exporter": "python",
   "pygments_lexer": "ipython3",
   "version": "3.7.6"
  }
 },
 "nbformat": 4,
 "nbformat_minor": 1
}
